{
 "cells": [
  {
   "cell_type": "code",
   "execution_count": 1,
   "id": "4933d913",
   "metadata": {},
   "outputs": [],
   "source": [
    "def irregular_primes(m,N):\n",
    "    r\"\"\"\n",
    "    Returns the proportion of irregular primes \n",
    "    for characters of fixed order out of the first totally split 100 primes.\n",
    "    \n",
    "    The computation uses Bernoulli numbers.\n",
    "    \n",
    "    INPUT:\n",
    "    \n",
    "  \n",
    "    - ``m``-- fixed order of Dirichlet characters, m > 1.\n",
    "    \n",
    "    - ``N`` -- test Dirichlet characters of conductor < N (and order m).\n",
    "    \n",
    " \n",
    "    \n",
    "    \n",
    "    OUTPUT: Number of irregular primes, number of characters, average proportion of irregular primes\n",
    "    \n",
    "    Conjecture: the proportion approaches 1-e^(-1/2) = 0.3935\n",
    "    \n",
    "    \"\"\"\n",
    "    Prim=[0]*100\n",
    "    p=3\n",
    "    for i in range(100):     # pre-compute 100 prime numbers\n",
    "        while ((p%m)!=1):    # only primes which are totally split in Q(zeta(m))\n",
    "            p=next_prime(p)\n",
    "        Prim[i]=p      \n",
    "        p=next_prime(p)\n",
    "     \n",
    "    irrs=0\n",
    "    number=0\n",
    "    \n",
    "    \n",
    "    for n in range(2,N):\n",
    "    \n",
    "        H = DirichletGroup(n, base_ring=CyclotomicField(m))\n",
    "        for i in range(H.order()):\n",
    "            if H[i].order()==m:\n",
    "            \n",
    "            \n",
    "                if H[i].is_primitive(): # == True:\n",
    "                    \n",
    "                    number+=1\n",
    "                    odd=0\n",
    "                    if H[i].is_odd()==True:\n",
    "                        odd=1\n",
    "                    \n",
    "                    B=[0]*p\n",
    "\n",
    "                    for k in range(2-odd,p,2):  # pre-compute Bernoulli numbers\n",
    "    \n",
    "                        B[k]=H[i].bernoulli(k)  # lies in cyclotomic extension of Q\n",
    "                    \n",
    "                    irr=0\n",
    "                    for k in range(100):\n",
    "                        p=Prim[k]                \n",
    "                        v=QQ.valuation(p)\n",
    "                        for k in range(2-odd,p,2):\n",
    "                            K=Qp(p)        \n",
    "                            zeta=K.roots_of_unity(m)[1]  # m-th root of unity lies in Qp since p=1 mod m.\n",
    "                            v=K.valuation()\n",
    "                            if v(B[k].lift()(zeta))>0:  # irregular if one of Bernoulli numbers is not a p-adic unit\n",
    "                                irr+=1                             \n",
    "                                break\n",
    "                    irrs=irrs+irr\n",
    "                    \n",
    "                    print(H[i],\",\",\"Irregular=\",irr, \"from 100\")\n",
    "                    \n",
    "    return(irrs,number,RR(irrs/number))\n"
   ]
  },
  {
   "cell_type": "code",
   "execution_count": 2,
   "id": "185b6f88",
   "metadata": {},
   "outputs": [
    {
     "name": "stdout",
     "output_type": "stream",
     "text": [
      "Dirichlet character modulo 3 of conductor 3 mapping 2 |--> -1 , Irregular= 28 from 100\n",
      "Dirichlet character modulo 4 of conductor 4 mapping 3 |--> -1 , Irregular= 32 from 100\n",
      "Dirichlet character modulo 5 of conductor 5 mapping 2 |--> -1 , Irregular= 35 from 100\n",
      "Dirichlet character modulo 7 of conductor 7 mapping 3 |--> -1 , Irregular= 39 from 100\n",
      "Dirichlet character modulo 8 of conductor 8 mapping 7 |--> 1, 5 |--> -1 , Irregular= 33 from 100\n",
      "Dirichlet character modulo 8 of conductor 8 mapping 7 |--> -1, 5 |--> -1 , Irregular= 34 from 100\n",
      "Dirichlet character modulo 11 of conductor 11 mapping 2 |--> -1 , Irregular= 27 from 100\n",
      "Dirichlet character modulo 12 of conductor 12 mapping 7 |--> -1, 5 |--> -1 , Irregular= 34 from 100\n",
      "Dirichlet character modulo 13 of conductor 13 mapping 2 |--> -1 , Irregular= 36 from 100\n",
      "Dirichlet character modulo 15 of conductor 15 mapping 11 |--> -1, 7 |--> -1 , Irregular= 33 from 100\n",
      "Dirichlet character modulo 17 of conductor 17 mapping 3 |--> -1 , Irregular= 35 from 100\n",
      "Dirichlet character modulo 19 of conductor 19 mapping 2 |--> -1 , Irregular= 40 from 100\n"
     ]
    },
    {
     "data": {
      "text/plain": [
       "(406, 12, 33.8333333333333)"
      ]
     },
     "execution_count": 2,
     "metadata": {},
     "output_type": "execute_result"
    }
   ],
   "source": [
    "irregular_primes(2,20) # order=2, conductor<20"
   ]
  },
  {
   "cell_type": "code",
   "execution_count": 3,
   "id": "abe25a8b",
   "metadata": {},
   "outputs": [
    {
     "name": "stdout",
     "output_type": "stream",
     "text": [
      "Dirichlet character modulo 7 of conductor 7 mapping 3 |--> zeta3 , Irregular= 37 from 100\n",
      "Dirichlet character modulo 7 of conductor 7 mapping 3 |--> -zeta3 - 1 , Irregular= 31 from 100\n",
      "Dirichlet character modulo 9 of conductor 9 mapping 2 |--> zeta3 , Irregular= 43 from 100\n",
      "Dirichlet character modulo 9 of conductor 9 mapping 2 |--> -zeta3 - 1 , Irregular= 37 from 100\n",
      "Dirichlet character modulo 13 of conductor 13 mapping 2 |--> zeta3 , Irregular= 31 from 100\n",
      "Dirichlet character modulo 13 of conductor 13 mapping 2 |--> -zeta3 - 1 , Irregular= 42 from 100\n",
      "Dirichlet character modulo 19 of conductor 19 mapping 2 |--> zeta3 , Irregular= 41 from 100\n",
      "Dirichlet character modulo 19 of conductor 19 mapping 2 |--> -zeta3 - 1 , Irregular= 33 from 100\n"
     ]
    },
    {
     "data": {
      "text/plain": [
       "(295, 8, 36.8750000000000)"
      ]
     },
     "execution_count": 3,
     "metadata": {},
     "output_type": "execute_result"
    }
   ],
   "source": [
    "irregular_primes(3,30) # order=3, conductor<30"
   ]
  },
  {
   "cell_type": "code",
   "execution_count": 4,
   "id": "8c8d107f",
   "metadata": {},
   "outputs": [
    {
     "name": "stdout",
     "output_type": "stream",
     "text": [
      "Dirichlet character modulo 5 of conductor 5 mapping 2 |--> zeta4 , Irregular= 37 from 100\n",
      "Dirichlet character modulo 5 of conductor 5 mapping 2 |--> -zeta4 , Irregular= 39 from 100\n"
     ]
    },
    {
     "data": {
      "text/plain": [
       "(76, 2, 38.0000000000000)"
      ]
     },
     "execution_count": 4,
     "metadata": {},
     "output_type": "execute_result"
    }
   ],
   "source": [
    "irregular_primes(4,10) # order=4, conductor<10"
   ]
  },
  {
   "cell_type": "code",
   "execution_count": null,
   "id": "26e4043f",
   "metadata": {},
   "outputs": [],
   "source": []
  }
 ],
 "metadata": {
  "kernelspec": {
   "display_name": "SageMath 9.7",
   "language": "sage",
   "name": "sagemath-9.7"
  },
  "language_info": {
   "codemirror_mode": {
    "name": "ipython",
    "version": 3
   },
   "file_extension": ".py",
   "mimetype": "text/x-python",
   "name": "python",
   "nbconvert_exporter": "python",
   "pygments_lexer": "ipython3",
   "version": "3.10.5"
  }
 },
 "nbformat": 4,
 "nbformat_minor": 5
}
