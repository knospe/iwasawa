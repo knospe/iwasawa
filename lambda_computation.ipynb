{
 "cells": [
  {
   "cell_type": "markdown",
   "id": "649d2660",
   "metadata": {},
   "source": [
    "## Efficient computations of the Iwasawa $\\lambda$-invariant $\\lambda_p(\\chi)$ for arbitary Dirichlet characters  $\\chi$ using characters $\\psi$ of order $p^n$.\n"
   ]
  },
  {
   "cell_type": "markdown",
   "id": "32f2832d",
   "metadata": {},
   "source": [
    "### Preprint: *Special values of $p$-adic $L$-functions and Iwasawa λ-invariants of Dirichlet characters* by Heiko Knospe."
   ]
  },
  {
   "cell_type": "code",
   "execution_count": 1,
   "id": "b2f5593e",
   "metadata": {},
   "outputs": [],
   "source": [
    "def lambda_invariant(chi,p,k):\n",
    "    r\"\"\"\n",
    "    Returns the lambda-invariant of the Iwasawa power series of $\\chi \\omega^{k}$,\n",
    "    where $\\chi$ is a character of the first kind and $k$ is a Teichmüller twist.\n",
    "    \n",
    "    First, it is checked whether $\\lambda=0$. This can be done very fast\n",
    "    using the first Bernoulli number of $\\chi$. If $\\lambda>0$ then $\\chi$ is \n",
    "    multiplied with a character $\\psi$ of order $p$ (i.e, of the second kind). This character is used to compute\n",
    "    $\\lambda$-invariants $\\leq p-1$ of the original character $\\chi$ and its Teichmuller twists. \n",
    "    If $\\lambda \\geq p$ we multiply with a character $\\psi$ of higher $p$-th power order. \n",
    "    This takes more time as the conductor of $\\chi \\psi$ increases. However, large $\\lambda$-invariants are very rare.\n",
    "    \n",
    "    INPUT:\n",
    "    \n",
    "  \n",
    "    - ``chi``-- a Dirichlet character, uses the SageMath class DirichletCharacter.\n",
    "    \n",
    "    - ``p`` -- an odd prime number.\n",
    "\n",
    "    - ``k`` -- a Teichmuller twist, k=0,...,p-2.\n",
    "    \n",
    "    \n",
    "    \n",
    "    OUTPUT: lambda-invariant\n",
    "    \n",
    "    \n",
    "    \"\"\"\n",
    "    if p==2 or p.is_prime() == False:\n",
    "        print(\"p must be an odd prime number.\")\n",
    "        return()\n",
    "    \n",
    "    if chi.is_primitive() == False:\n",
    "        print(\"chi must be a primitive character.\")\n",
    "        return()\n",
    "        \n",
    "    if (chi.is_even() and k%2==1) or (chi.is_odd() and k%2==0): \n",
    "        # non-trivial p-adic L-function requires even character and even twist or odd character and odd twist\n",
    "        print(\"The p-adic L-function is zero.\")\n",
    "        return()\n",
    "\n",
    "    cond = chi.conductor() # conductor of $\\chi$\n",
    "    \n",
    "    if gcd(cond,p*p)==p*p:\n",
    "        print(\"chi must be a character of the first kind.\")\n",
    "        return() \n",
    "              \n",
    "    ord = chi.order() # order of $\\chi$\n",
    "    \n",
    "    if gcd(ord,p)>1:\n",
    "        print(\"Not yet implemented.\")\n",
    "        return()\n",
    "\n",
    "    if not (k in range(0,p-1)):\n",
    "        print(\"k must a twist between 0 and p-2.\")\n",
    "        return(-1)\n",
    "\n",
    "    if k==0:\n",
    "        k=p-1 # better suited for computations\n",
    "    \n",
    "\n",
    "    F=CyclotomicField(ord*p)\n",
    "    v=QQ.valuation(p).extensions(F)[0]\n",
    "\n",
    "    # get character psi of order p and conductor p^2\n",
    "    H = DirichletGroup(p*p, base_ring=CyclotomicField(p))\n",
    "    for i in range(H.order()):\n",
    "        if H[i].is_primitive() and H[i].order()==p:\n",
    "            psi=H[i]\n",
    "        exit\n",
    "    \n",
    "    b1=chi.bernoulli(k)\n",
    "   \n",
    "    \n",
    "    if (chi(p)!=1 or k!=1) and v(b1)==0:\n",
    "        # case rank=0, lambda=0\n",
    "        \n",
    "        return(0)\n",
    "    else:\n",
    "        # case lambda >= 1\n",
    "        # check whether lambda>1\n",
    "        \n",
    "        G=DirichletGroup(lcm(cond,p*p),base_ring=F)\n",
    "        prod=G(psi)*G(chi) # twist by character psi of order p\n",
    "        b1prod=prod.bernoulli(k)\n",
    "        lam= v(b1prod/k-(1-chi(p)*p^(k-1))*b1/k)*(p-1)\n",
    "        if lam <= p-1:\n",
    "            return(lam)\n",
    "        else: \n",
    "            # case lambda>p-1\n",
    "            \n",
    "            # get character psi of order p^2 and conductor p^3\n",
    "            H = DirichletGroup(p*p*p, base_ring=CyclotomicField(p*p))\n",
    "            for i in range(H.order()):\n",
    "                if H[i].is_primitive() and H[i].order()==p*p:\n",
    "                    psi=H[i]\n",
    "                    exit\n",
    "                    \n",
    "            F=CyclotomicField(ord*p*p)\n",
    "            v=QQ.valuation(p).extensions(F)[0]  \n",
    "            G=DirichletGroup(lcm(cond,p*p*p),base_ring=F)\n",
    "            prod=G(psi)*G(chi) # twist by character psi of order p^2\n",
    "            b1prod=prod.bernoulli(k)\n",
    "            lam= v(b1prod/k-(1-chi(p)*p^(k-1))*b1/k)*(p-1)*p\n",
    "            if lam <= (p-1)*p:\n",
    "                return(lam)\n",
    "            else: \n",
    "                # case lambda>(p-1)*p\n",
    "                \n",
    "                # get character psi of order p^3 and conductor p^4\n",
    "                H = DirichletGroup(p*p*p*p, base_ring=CyclotomicField(p*p*p))\n",
    "                for i in range(H.order()):\n",
    "                    if H[i].is_primitive() and H[i].order()==p*p*p:\n",
    "                        psi=H[i]\n",
    "                        exit\n",
    "                        \n",
    "                F=CyclotomicField(ord*p*p*p)\n",
    "                v=QQ.valuation(p).extensions(F)[0]  \n",
    "                G=DirichletGroup(lcm(cond,p*p*p*p),base_ring=F)\n",
    "                prod=G(psi)*G(chi) # twist by character psi of order p^3\n",
    "                b1prod=prod.bernoulli(k)\n",
    "                lam= v(b1prod/k-(1-chi(p)*p^(k-1))*b1/k)*(p-1)*p*p\n",
    "                \n",
    "                return(lam) # might be wrong for lambda>(p-1)*p^2, but this occures extremly (!) rarely.\n",
    "    \n",
    "    "
   ]
  },
  {
   "cell_type": "code",
   "execution_count": 2,
   "id": "48562b64",
   "metadata": {},
   "outputs": [
    {
     "name": "stdout",
     "output_type": "stream",
     "text": [
      "p=7\n",
      "Twist=1\n",
      "Dirichlet character modulo 19 of conductor 19 mapping 2 |--> zeta6 ==> lambda=2\n",
      "Dirichlet character modulo 19 of conductor 19 mapping 2 |--> -zeta6 + 1 ==> lambda=4\n"
     ]
    }
   ],
   "source": [
    "# Example: conductor 19, p=7, order=6, odd character, twist=1\n",
    "p=7\n",
    "k=1\n",
    "print(f'p={p}')\n",
    "print(f'Twist={k}')\n",
    "H = DirichletGroup(19, base_ring=CyclotomicField(6))\n",
    "for i in range(H.order()):\n",
    "    if H[i].is_primitive() and H[i].order()==6 and H[i].is_odd()==True:\n",
    "        chi = H[i]\n",
    "        \n",
    "        print(f'{chi} ==> lambda={lambda_invariant(chi,p,1)}')\n",
    "# two characters, lambda=2 and lambda=4, same result as with other methods."
   ]
  },
  {
   "cell_type": "code",
   "execution_count": 3,
   "id": "ff62b8cf-764e-484b-a8af-f18442001f05",
   "metadata": {},
   "outputs": [
    {
     "name": "stdout",
     "output_type": "stream",
     "text": [
      "p=3\n",
      "Twist=0\n",
      "Dirichlet character modulo 701 of conductor 701 mapping 2 |--> -1 ==> lambda=0\n",
      "Dirichlet character modulo 709 of conductor 709 mapping 2 |--> -1 ==> lambda=0\n",
      "Dirichlet character modulo 712 of conductor 712 mapping 535 |--> 1, 357 |--> -1, 537 |--> -1 ==> lambda=0\n",
      "Dirichlet character modulo 713 of conductor 713 mapping 373 |--> -1, 530 |--> -1 ==> lambda=0\n",
      "Dirichlet character modulo 716 of conductor 716 mapping 359 |--> -1, 181 |--> -1 ==> lambda=2\n",
      "Dirichlet character modulo 721 of conductor 721 mapping 619 |--> -1, 211 |--> -1 ==> lambda=0\n",
      "Dirichlet character modulo 728 of conductor 728 mapping 183 |--> -1, 365 |--> -1, 521 |--> -1, 561 |--> -1 ==> lambda=1\n",
      "Dirichlet character modulo 733 of conductor 733 mapping 6 |--> -1 ==> lambda=3\n",
      "Dirichlet character modulo 737 of conductor 737 mapping 68 |--> -1, 672 |--> -1 ==> lambda=0\n"
     ]
    }
   ],
   "source": [
    "# Example: p=3, 700<conductor<740, order=2, twist=0, even quadratic characters\n",
    "p=3\n",
    "k=0\n",
    "print(f'p={p}')\n",
    "print(f'Twist={k}')\n",
    "for n in range(701,740):\n",
    "            H = DirichletGroup(n, base_ring=CyclotomicField(2))\n",
    "            for i in range(H.order()):\n",
    "                if H[i].order()==2 and H[i].is_even()==True and H[i].is_primitive() and gcd(H[i].conductor(),p)==1:\n",
    "                    chi = H[i]\n",
    "        \n",
    "                    print(f'{chi} ==> lambda={lambda_invariant(chi,p,k)}')                    "
   ]
  },
  {
   "cell_type": "code",
   "execution_count": 4,
   "id": "e813ef84-e94f-485a-8bc1-126c5cbeafbe",
   "metadata": {},
   "outputs": [
    {
     "name": "stdout",
     "output_type": "stream",
     "text": [
      "p=5\n",
      "Twist=3\n",
      "Dirichlet character modulo 13 of conductor 13 mapping 2 |--> zeta4 ==> lambda=0\n",
      "Dirichlet character modulo 13 of conductor 13 mapping 2 |--> -zeta4 ==> lambda=0\n",
      "Dirichlet character modulo 16 of conductor 16 mapping 15 |--> -1, 5 |--> zeta4 ==> lambda=0\n",
      "Dirichlet character modulo 16 of conductor 16 mapping 15 |--> -1, 5 |--> -zeta4 ==> lambda=0\n",
      "Dirichlet character modulo 29 of conductor 29 mapping 2 |--> zeta4 ==> lambda=0\n",
      "Dirichlet character modulo 29 of conductor 29 mapping 2 |--> -zeta4 ==> lambda=0\n",
      "Dirichlet character modulo 37 of conductor 37 mapping 2 |--> zeta4 ==> lambda=0\n",
      "Dirichlet character modulo 37 of conductor 37 mapping 2 |--> -zeta4 ==> lambda=1\n",
      "Dirichlet character modulo 48 of conductor 48 mapping 31 |--> 1, 37 |--> zeta4, 17 |--> -1 ==> lambda=1\n",
      "Dirichlet character modulo 48 of conductor 48 mapping 31 |--> 1, 37 |--> -zeta4, 17 |--> -1 ==> lambda=0\n",
      "Dirichlet character modulo 51 of conductor 51 mapping 35 |--> -1, 37 |--> zeta4 ==> lambda=0\n",
      "Dirichlet character modulo 51 of conductor 51 mapping 35 |--> -1, 37 |--> -zeta4 ==> lambda=0\n",
      "Dirichlet character modulo 53 of conductor 53 mapping 2 |--> zeta4 ==> lambda=1\n",
      "Dirichlet character modulo 53 of conductor 53 mapping 2 |--> -zeta4 ==> lambda=0\n",
      "Dirichlet character modulo 61 of conductor 61 mapping 2 |--> zeta4 ==> lambda=0\n",
      "Dirichlet character modulo 61 of conductor 61 mapping 2 |--> -zeta4 ==> lambda=1\n",
      "Dirichlet character modulo 68 of conductor 68 mapping 35 |--> -1, 37 |--> zeta4 ==> lambda=0\n",
      "Dirichlet character modulo 68 of conductor 68 mapping 35 |--> -1, 37 |--> -zeta4 ==> lambda=0\n"
     ]
    }
   ],
   "source": [
    "# Example: p=5, conductor<100, order=4, twist=3, odd characters of order 4\n",
    "p=5\n",
    "k=3\n",
    "print(f'p={p}')\n",
    "print(f'Twist={k}')\n",
    "for n in range(2,100):\n",
    "            H = DirichletGroup(n, base_ring=CyclotomicField(4))\n",
    "            for i in range(H.order()):\n",
    "                if H[i].order()==4 and H[i].is_odd()==True and H[i].is_primitive() and gcd(H[i].conductor(),p)==1:\n",
    "                    chi = H[i]\n",
    "        \n",
    "                    print(f'{chi} ==> lambda={lambda_invariant(chi,p,k)}')      "
   ]
  },
  {
   "cell_type": "code",
   "execution_count": 5,
   "id": "1f5b371b-0a60-4b2e-bc7e-baf27b7a357e",
   "metadata": {},
   "outputs": [
    {
     "name": "stdout",
     "output_type": "stream",
     "text": [
      "p=7\n",
      "Twist=0\n",
      "Dirichlet character modulo 9 of conductor 9 mapping 2 |--> zeta3 ==> lambda=0\n",
      "Dirichlet character modulo 9 of conductor 9 mapping 2 |--> -zeta3 - 1 ==> lambda=2\n",
      "Dirichlet character modulo 13 of conductor 13 mapping 2 |--> zeta3 ==> lambda=0\n",
      "Dirichlet character modulo 13 of conductor 13 mapping 2 |--> -zeta3 - 1 ==> lambda=0\n",
      "Dirichlet character modulo 19 of conductor 19 mapping 2 |--> zeta3 ==> lambda=0\n",
      "Dirichlet character modulo 19 of conductor 19 mapping 2 |--> -zeta3 - 1 ==> lambda=0\n",
      "Dirichlet character modulo 31 of conductor 31 mapping 3 |--> zeta3 ==> lambda=0\n",
      "Dirichlet character modulo 31 of conductor 31 mapping 3 |--> -zeta3 - 1 ==> lambda=0\n",
      "Dirichlet character modulo 37 of conductor 37 mapping 2 |--> zeta3 ==> lambda=0\n",
      "Dirichlet character modulo 37 of conductor 37 mapping 2 |--> -zeta3 - 1 ==> lambda=0\n",
      "Dirichlet character modulo 43 of conductor 43 mapping 3 |--> zeta3 ==> lambda=0\n",
      "Dirichlet character modulo 43 of conductor 43 mapping 3 |--> -zeta3 - 1 ==> lambda=0\n",
      "Dirichlet character modulo 61 of conductor 61 mapping 2 |--> zeta3 ==> lambda=0\n",
      "Dirichlet character modulo 61 of conductor 61 mapping 2 |--> -zeta3 - 1 ==> lambda=0\n",
      "Dirichlet character modulo 67 of conductor 67 mapping 2 |--> zeta3 ==> lambda=0\n",
      "Dirichlet character modulo 67 of conductor 67 mapping 2 |--> -zeta3 - 1 ==> lambda=0\n",
      "Dirichlet character modulo 73 of conductor 73 mapping 5 |--> zeta3 ==> lambda=0\n",
      "Dirichlet character modulo 73 of conductor 73 mapping 5 |--> -zeta3 - 1 ==> lambda=1\n",
      "Dirichlet character modulo 79 of conductor 79 mapping 3 |--> zeta3 ==> lambda=0\n",
      "Dirichlet character modulo 79 of conductor 79 mapping 3 |--> -zeta3 - 1 ==> lambda=0\n",
      "Dirichlet character modulo 97 of conductor 97 mapping 5 |--> zeta3 ==> lambda=1\n",
      "Dirichlet character modulo 97 of conductor 97 mapping 5 |--> -zeta3 - 1 ==> lambda=0\n"
     ]
    }
   ],
   "source": [
    "# Example: p=7, conductor<100, order=3, twist=0, even cubic characters\n",
    "p=7\n",
    "k=0\n",
    "print(f'p={p}')\n",
    "print(f'Twist={k}')\n",
    "for n in range(2,100):\n",
    "            H = DirichletGroup(n, base_ring=CyclotomicField(3))\n",
    "            for i in range(H.order()):\n",
    "                if H[i].order()==3 and H[i].is_even()==True and H[i].is_primitive() and gcd(H[i].conductor(),p)==1:\n",
    "                    chi = H[i]\n",
    "        \n",
    "                    print(f'{chi} ==> lambda={lambda_invariant(chi,p,k)}')    "
   ]
  },
  {
   "cell_type": "code",
   "execution_count": 6,
   "id": "fc64538d",
   "metadata": {},
   "outputs": [],
   "source": [
    "# Example of a large lambda-invariant\n",
    "H = DirichletGroup(71068, base_ring=CyclotomicField(2))\n",
    "chi=H[7] # even quadratic character"
   ]
  },
  {
   "cell_type": "code",
   "execution_count": 7,
   "id": "7de776e2",
   "metadata": {},
   "outputs": [
    {
     "name": "stdout",
     "output_type": "stream",
     "text": [
      "p=3\n",
      "Twist=0\n",
      "Dirichlet character modulo 71068 of conductor 71068 mapping 35535 |--> -1, 33905 |--> -1, 53629 |--> -1 ==> lambda=11\n"
     ]
    }
   ],
   "source": [
    "p=3\n",
    "k=0\n",
    "print(f'p={p}')\n",
    "print(f'Twist={k}')\n",
    "print(f'{chi} ==> lambda={lambda_invariant(chi,p,k)}')  \n",
    "# takes several minutes. lambda=11, ok!"
   ]
  }
 ],
 "metadata": {
  "kernelspec": {
   "display_name": "SageMath 10.2",
   "language": "sage",
   "name": "sagemath"
  },
  "language_info": {
   "codemirror_mode": {
    "name": "ipython",
    "version": 3
   },
   "file_extension": ".py",
   "mimetype": "text/x-python",
   "name": "python",
   "nbconvert_exporter": "python",
   "pygments_lexer": "ipython3",
   "version": "3.11.1"
  }
 },
 "nbformat": 4,
 "nbformat_minor": 5
}
