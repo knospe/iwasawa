{
 "cells": [
  {
   "cell_type": "markdown",
   "id": "b68958c2",
   "metadata": {},
   "source": [
    "## Computation of the values of p-adic L-functions for Dirichlet characters"
   ]
  },
  {
   "cell_type": "markdown",
   "id": "0872350a",
   "metadata": {},
   "source": [
    "References: \n",
    "\n",
    "[KW] Heiko Knospe and Lawrence Washington, Dirichlet series expansions of $p$-adic $L$-functions, Abhandlungen aus dem Mathematischen Seminar der Universität Hamburg 91 (2021), 325-334. Open access at https://link.springer.com/article/10.1007/s12188-021-00244-0."
   ]
  },
  {
   "cell_type": "code",
   "execution_count": 1,
   "id": "e108b1a6",
   "metadata": {},
   "outputs": [],
   "source": [
    "def padic_lfunction_KL(p,chi,i,s,N):\n",
    "    r\"\"\"\n",
    "    Return the value of a p-adic L-function\n",
    "    \n",
    "    INPUT:\n",
    "    \n",
    "    - ``p`` -- prime number.\n",
    "    \n",
    "    - ``chi``-- Dirichlet character, use class DirichletCharacter.\n",
    "    \n",
    "    - ``i`` -- Teichmuller twist of $\\chi$.\n",
    "    \n",
    "    - ``s``-- p-adic input value\n",
    "    \n",
    "    - ``N`` -- determines the accurancy, $f p^N$ summation terms.\n",
    "    \n",
    "    OUTPUT: the p-adic value of $L_p(\\chi\\omega^{i},s)$\n",
    "    \n",
    "    .. NOTE::\n",
    "    \n",
    "        The function uses the algorithm of [KW]_ Prop. 2.1.\n",
    "    \"\"\"\n",
    "    \n",
    "   \n",
    "    n = chi.order()  # order of $\\chi$\n",
    "    if gcd(n,p)>1:\n",
    "        print(\"Not yet implemented.\")\n",
    "        return()\n",
    "    cond = chi.conductor() # conductor of $\\chi$\n",
    "\n",
    "    chi0 = chi.change_ring(CyclotomicField(n)) # use smallest field of values of $\\chi$\n",
    "    \n",
    "    f = mod(p,n).multiplicative_order() # degree of field extension of Qp containing $n$-th root of unity\n",
    "\n",
    "    L.<pi>=Qq(p^f) # unramified field extension of Qp\n",
    "    if (f>1):\n",
    "        print(L)\n",
    "        \n",
    "    zeta=L.roots_of_unity(n)[1] # primitive $n$-th root of unity\n",
    "    \n",
    "    F=p^N * cond  #  number of terms, determines the accurracy \n",
    "    \n",
    "    sum=L(0)\n",
    "    \n",
    "    for a in range(1,F):\n",
    "        if gcd(a,p)==1:\n",
    "            \n",
    "            ma=L(a)/L.teichmuller(a)\n",
    "            \n",
    "            chiL = chi0(a).lift()  ## lift zeta_n to variable x\n",
    "            chia = chiL(zeta)  ## get value of $\\chi(a)$ in p-adic field L\n",
    "            \n",
    "            mas=(exp((1-s)*log(ma))*(L.teichmuller(a))^(i))*chia\n",
    "               \n",
    "            sum = sum + mas\n",
    "            \n",
    "    sum = sum/(F*(s-1))        \n",
    "        \n",
    "    return sum"
   ]
  },
  {
   "cell_type": "code",
   "execution_count": 2,
   "id": "e0dcaac8",
   "metadata": {},
   "outputs": [],
   "source": [
    "# example: odd quadratic character of conductor 31\n",
    "from sage.modular.dirichlet import DirichletCharacter\n",
    "H = DirichletGroup(31,base_ring=CyclotomicField(2))\n",
    "M = H._module\n",
    "chi = DirichletCharacter(H, M([1]))"
   ]
  },
  {
   "cell_type": "code",
   "execution_count": 3,
   "id": "ffa73f64",
   "metadata": {},
   "outputs": [
    {
     "data": {
      "text/plain": [
       "2*3^4 + 3^5 + 2*3^6 + 2*3^7 + 2*3^8 + 3^9 + 2*3^11 + 3^13 + 3^14 + 2*3^15 + O(3^16)"
      ]
     },
     "execution_count": 3,
     "metadata": {},
     "output_type": "execute_result"
    }
   ],
   "source": [
    "padic_lfunction_KL(3,chi,1,-4,4) # value at s=-4. Result ok, see EJV"
   ]
  },
  {
   "cell_type": "code",
   "execution_count": 4,
   "id": "76f090ba",
   "metadata": {},
   "outputs": [],
   "source": [
    "def padic_lfunction_KW(p,chi,i,s,N):\n",
    "    r\"\"\"\n",
    "    Return the value of a p-adic L-function\n",
    "    \n",
    "    INPUT:\n",
    "    \n",
    "    - ``p`` -- prime number.\n",
    "    \n",
    "    - ``chi``-- Dirichlet character, use class DirichletCharacter.\n",
    "    \n",
    "    - ``i`` -- Teichmuller twist of $\\chi$.\n",
    "    \n",
    "    - ``s``-- p-adic input value\n",
    "    \n",
    "    - ``N`` -- determines the accurancy, $f p^N$ summation terms.\n",
    "    \n",
    "    OUTPUT: the p-adic value of $L_p(\\chi\\omega^{i},s)$\n",
    "    \n",
    "    .. NOTE::\n",
    "    \n",
    "        The function uses the algorithm of [KW]_ Theorem 2.4.\n",
    "    \"\"\"\n",
    "    \n",
    "    K=Qp(p)\n",
    "    n = chi.order()  # order of $\\chi$\n",
    "    if gcd(n,p)>1:\n",
    "        print(\"Not yet implemented.\")\n",
    "        return()\n",
    "    cond = chi.conductor() # conductor of $\\chi$\n",
    "    \n",
    "    chi0 = chi.change_ring(CyclotomicField(n)) # use smallest field of values of $\\chi$\n",
    "    \n",
    "    f = mod(p,n).multiplicative_order() # degree of field extension of Qp containing $n$-th root of unity\n",
    "    \n",
    "    L.<pi>=Qq(p^f) # unramified field extension of Qp\n",
    "    if (f>1):\n",
    "        print(L)\n",
    "        \n",
    "    zeta=L.roots_of_unity(n)[1] # primitive $n$-th root of unity\n",
    "\n",
    "    F=p^N * cond  #  number of terms, determines the accurracy \n",
    "    \n",
    "   \n",
    "    sum=L(0)\n",
    "    \n",
    "    for a in range(1,F):\n",
    "        if gcd(a,p)==1:\n",
    "            \n",
    "            ma=L(a)/L.teichmuller(a) ## get <a>\n",
    "            \n",
    "            \n",
    "            chiL = chi0(a).lift()  ## lift zeta_n to variable x\n",
    "            chia = chiL(zeta)  ## get value of $\\chi(a)$ in p-adic field L\n",
    "            \n",
    "            if s==0:\n",
    "                aps=1\n",
    "            else:\n",
    "                aps= (exp(-s*log(ma)))  ## compute <a>^(-s)       \n",
    "            \n",
    "            mas = ((-1)^a)/2 * aps  * ((L.teichmuller(a))^(i-1)) * chia\n",
    "                  \n",
    "            sum = sum + mas\n",
    "            \n",
    "    tm2=L.teichmuller(2)\n",
    "    chiL = chi0(2).lift()\n",
    "    chia = chiL(zeta)\n",
    "    sum=-sum/(1-(tm2^(i)*chia*exp((1-s)*log(L(2)/tm2))))         \n",
    "        \n",
    "    return sum"
   ]
  },
  {
   "cell_type": "code",
   "execution_count": 5,
   "id": "533d26cb",
   "metadata": {},
   "outputs": [
    {
     "data": {
      "text/plain": [
       "2*3^4 + 3^5 + 2*3^6 + 2*3^7 + 2*3^8 + 2*3^9 + 3^11 + 3^12 + 3^14 + 2*3^15 + 2*3^17 + 3^18 + O(3^20)"
      ]
     },
     "execution_count": 5,
     "metadata": {},
     "output_type": "execute_result"
    }
   ],
   "source": [
    "# Example (see above)\n",
    "# other formula, but almost same result as above, error O(3^9) determined by choice N.\n",
    "padic_lfunction_KW(3,chi,1,-4,4) "
   ]
  },
  {
   "cell_type": "code",
   "execution_count": 6,
   "id": "83b33119",
   "metadata": {},
   "outputs": [],
   "source": [
    "# example: cubic character of conductor 9\n",
    "H = DirichletGroup(9, base_ring=CyclotomicField(6))\n",
    "M = H._module\n",
    "chi = DirichletCharacter(H, M([2]))"
   ]
  },
  {
   "cell_type": "code",
   "execution_count": 7,
   "id": "26e89ab8",
   "metadata": {},
   "outputs": [
    {
     "data": {
      "text/plain": [
       "6*7 + 6*7^3 + 5*7^4 + 2*7^5 + 7^6 + 7^7 + 5*7^8 + 6*7^9 + 4*7^10 + 4*7^11 + 2*7^12 + 7^13 + 4*7^14 + 2*7^15 + 4*7^16 + 5*7^17 + 3*7^19 + O(7^20)"
      ]
     },
     "execution_count": 7,
     "metadata": {},
     "output_type": "execute_result"
    }
   ],
   "source": [
    "padic_lfunction_KW(7,chi,0,0,2) # cubic character, p=7, value at s=0"
   ]
  },
  {
   "cell_type": "code",
   "execution_count": 8,
   "id": "faaaecac",
   "metadata": {},
   "outputs": [
    {
     "data": {
      "text/plain": [
       "6*7 + 6*7^3 + 5*7^4 + 2*7^5 + 7^6 + 7^7 + 5*7^8 + 6*7^9 + 4*7^10 + 4*7^11 + 2*7^12 + 7^13 + 4*7^14 + 2*7^15 + 4*7^16 + 5*7^17 + O(7^18)"
      ]
     },
     "execution_count": 8,
     "metadata": {},
     "output_type": "execute_result"
    }
   ],
   "source": [
    "padic_lfunction_KL(7,chi,0,0,2) # other formula, same result as above "
   ]
  },
  {
   "cell_type": "code",
   "execution_count": 9,
   "id": "80a8c090",
   "metadata": {},
   "outputs": [],
   "source": [
    "# example: cubic character of conductor 117\n",
    "H = DirichletGroup(117, base_ring=CyclotomicField(6))\n",
    "M = H._module\n",
    "chi = DirichletCharacter(H, M([4,4]))"
   ]
  },
  {
   "cell_type": "code",
   "execution_count": 10,
   "id": "bfc246f3",
   "metadata": {},
   "outputs": [
    {
     "name": "stdout",
     "output_type": "stream",
     "text": [
      "5-adic Unramified Extension Field in pi defined by x^2 + 4*x + 2\n"
     ]
    },
    {
     "data": {
      "text/plain": [
       "(2*pi + 1)*5 + (pi + 4)*5^2 + (3*pi + 2)*5^3 + 2*pi*5^4 + pi*5^5 + (2*pi + 2)*5^6 + (2*pi + 3)*5^7 + 5^8 + (3*pi + 2)*5^9 + (4*pi + 3)*5^11 + (4*pi + 1)*5^12 + 4*pi*5^13 + (3*pi + 2)*5^14 + (4*pi + 4)*5^15 + (2*pi + 4)*5^16 + pi*5^17 + O(5^20)"
      ]
     },
     "execution_count": 10,
     "metadata": {},
     "output_type": "execute_result"
    }
   ],
   "source": [
    "padic_lfunction_KW(5,chi,2,0,2) # p=5, f=2, see Delbourgo-Chao table 4, p=5, beta=1"
   ]
  },
  {
   "cell_type": "code",
   "execution_count": null,
   "id": "8f8901c6",
   "metadata": {},
   "outputs": [],
   "source": []
  }
 ],
 "metadata": {
  "kernelspec": {
   "display_name": "SageMath 9.5",
   "language": "sage",
   "name": "sagemath-9.5"
  },
  "language_info": {
   "codemirror_mode": {
    "name": "ipython",
    "version": 3
   },
   "file_extension": ".py",
   "mimetype": "text/x-python",
   "name": "python",
   "nbconvert_exporter": "python",
   "pygments_lexer": "ipython3",
   "version": "3.9.9"
  }
 },
 "nbformat": 4,
 "nbformat_minor": 5
}
