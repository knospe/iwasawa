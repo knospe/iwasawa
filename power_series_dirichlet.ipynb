{
 "cells": [
  {
   "cell_type": "markdown",
   "id": "1328e291",
   "metadata": {},
   "source": [
    "## Computation of the Iwasawa power series for Dirichlet characters using series expansions"
   ]
  },
  {
   "cell_type": "markdown",
   "id": "5937d8ea",
   "metadata": {},
   "source": [
    "References:\n",
    "\n",
    "[KW] Heiko Knospe and Lawrence Washington, Dirichlet series expansions of  𝑝 -adic  𝐿 -functions, Abhandlungen aus dem Mathematischen Seminar der Universität Hamburg 91 (2021), 325-334. Open access at https://link.springer.com/article/10.1007/s12188-021-00244-0."
   ]
  },
  {
   "cell_type": "code",
   "execution_count": 1,
   "id": "c06dfa04",
   "metadata": {},
   "outputs": [],
   "source": [
    "def power_series_KW(p,chi,i,N,M):\n",
    "    r\"\"\"\n",
    "    Return the Iwasawa power series of a p-adic L-function\n",
    "    \n",
    "    INPUT:\n",
    "    \n",
    "    - ``p`` -- prime number.\n",
    "    \n",
    "    - ``chi``-- Dirichlet character, use class DirichletCharacter.\n",
    "    \n",
    "    - ``i`` -- Teichmuller twist of $\\chi$.\n",
    "    \n",
    "    - ``N`` -- determines the accurancy, $f p^N$ summation terms.\n",
    "    \n",
    "    - ``M`` -- the number of power series coefficients\n",
    "    \n",
    "    OUTPUT: first M coefficients of the power series $f(T,\\chi)$ of $L_p(\\chi\\omega^{i},s)$\n",
    "    \n",
    "    .. NOTE::\n",
    "    \n",
    "        The function uses the algorithm of [KW]_ Theorem 2.4 and the relation $T=(1+qd)^s-1$.\n",
    "    \"\"\"\n",
    "   \n",
    "    n = chi.order()  # order of $\\chi$\n",
    "    if gcd(n,p)>1:\n",
    "        print(\"Not yet implemented.\")\n",
    "        return()\n",
    "    cond = chi.conductor() # conductor of $\\chi$\n",
    "    if gcd(cond,p)>1:\n",
    "        print(\"Not yet implemented.\")\n",
    "        return()\n",
    "    \n",
    "    if M>15:\n",
    "        print(\"Not yet implemented.\")\n",
    "        return()\n",
    "    \n",
    "    K=Qp(p)\n",
    "    \n",
    "    \n",
    "    chi0 = chi.change_ring(CyclotomicField(n)) # use smallest field of values of $\\chi$\n",
    "   \n",
    "    f = mod(p,n).multiplicative_order() # degree of field extension of Qp containing $n$-th root of unity\n",
    "    \n",
    "    L.<pi>=Qq(p^f) # unramified field extension of Qp\n",
    "    if (f>1):\n",
    "        print(L)\n",
    "        \n",
    "    zeta=L.roots_of_unity(n)[1] # primitive $n$-th root of unity\n",
    "    \n",
    "    F=p^N * cond  #  number of terms, determines the accurracy \n",
    "    \n",
    "    \n",
    "    coeff=[L(0)]*15   # up to 15 coefficients\n",
    "    \n",
    "    #    i=ZZ(mod(i,p-1))\n",
    "    \n",
    "    Lq=log(K(1+p*cond))\n",
    "    L2=-log(K(2))/Lq\n",
    "    \n",
    "    \n",
    "    chiL2 = chi0(2).lift()\n",
    "    chi2 = chiL2(zeta)\n",
    "    \n",
    "    m2=L(2)/L.teichmuller(2)\n",
    "    \n",
    "    R.<T>=PowerSeriesRing(L)\n",
    "    \n",
    "    \n",
    "    for m in range(1,F):\n",
    "        if gcd(m,p)==1:\n",
    "            #mt=L(m)/L.teichmuller(m)\n",
    "            chiL = chi0(m).lift()\n",
    "            chia = chiL(zeta)\n",
    "            \n",
    "            Lm=-log(L(m))/L(Lq)\n",
    "            bLm = Lm   # used to compute the binomial coefficient\n",
    "            coeff[0]=coeff[0]+((-1)^m)*chia*(L.teichmuller(m))^(i-1)\n",
    "            \n",
    "            for k in range(1,M):\n",
    "                coeff[k]=coeff[k]+((-1)^m)*chia*bLm*(L.teichmuller(m))^(i-1) / factorial(k)\n",
    "                bLm = bLm*(Lm-k)\n",
    "            \n",
    "    \n",
    "    factor2 = -1/(2*R(1-chi2*(L.teichmuller(2)^(i))*m2*exp(log(R(1+T))*L2)))  # factor at 2    \n",
    "    series = R(coeff[0:M]) * factor2      \n",
    "    return (series.O(M))        "
   ]
  },
  {
   "cell_type": "code",
   "execution_count": 2,
   "id": "ae2eca17",
   "metadata": {},
   "outputs": [],
   "source": [
    "# example: cubic character of conductor 117\n",
    "from sage.modular.dirichlet import DirichletCharacter\n",
    "H = DirichletGroup(117, base_ring=CyclotomicField(6))\n",
    "M = H._module\n",
    "chi = DirichletCharacter(H, M([4,4]))"
   ]
  },
  {
   "cell_type": "code",
   "execution_count": 3,
   "id": "8f5c59bc",
   "metadata": {},
   "outputs": [
    {
     "name": "stdout",
     "output_type": "stream",
     "text": [
      "5-adic Unramified Extension Field in pi defined by x^2 + 4*x + 2\n"
     ]
    },
    {
     "data": {
      "text/plain": [
       "(2*pi + 1)*5 + (pi + 4)*5^2 + (3*pi + 2)*5^3 + 2*pi*5^4 + pi*5^5 + (2*pi + 2)*5^6 + (2*pi + 3)*5^7 + 5^8 + (3*pi + 2)*5^9 + (4*pi + 3)*5^11 + (4*pi + 1)*5^12 + 4*pi*5^13 + (3*pi + 2)*5^14 + (4*pi + 4)*5^15 + (2*pi + 4)*5^16 + pi*5^17 + O(5^20) + (3*pi + (4*pi + 1)*5 + (pi + 4)*5^2 + (pi + 1)*5^3 + (4*pi + 2)*5^4 + (2*pi + 1)*5^5 + (3*pi + 1)*5^6 + (3*pi + 4)*5^7 + (3*pi + 3)*5^8 + pi*5^9 + (2*pi + 1)*5^10 + (4*pi + 4)*5^11 + 3*5^12 + (3*pi + 2)*5^13 + (pi + 1)*5^14 + 4*5^15 + (2*pi + 3)*5^16 + (4*pi + 3)*5^17 + O(5^19))*T + ((3*pi + 4) + 3*pi*5^2 + 4*pi*5^3 + (4*pi + 2)*5^4 + 2*pi*5^5 + (3*pi + 3)*5^6 + (2*pi + 2)*5^7 + (2*pi + 4)*5^8 + 2*5^9 + (pi + 1)*5^10 + (2*pi + 4)*5^11 + (4*pi + 1)*5^12 + (4*pi + 3)*5^13 + 3*5^14 + (2*pi + 2)*5^15 + (3*pi + 4)*5^16 + 4*pi*5^17 + 4*5^18 + O(5^19))*T^2 + ((3*pi + 1) + (pi + 4)*5 + (2*pi + 3)*5^2 + (4*pi + 3)*5^3 + (3*pi + 2)*5^4 + (2*pi + 4)*5^5 + 4*pi*5^6 + (3*pi + 1)*5^7 + (pi + 2)*5^8 + (pi + 2)*5^9 + 2*pi*5^10 + 3*5^11 + (2*pi + 4)*5^12 + (3*pi + 1)*5^13 + (3*pi + 3)*5^14 + (3*pi + 4)*5^15 + 2*pi*5^16 + (pi + 2)*5^18 + O(5^19))*T^3 + O(T^4)"
      ]
     },
     "execution_count": 3,
     "metadata": {},
     "output_type": "execute_result"
    }
   ],
   "source": [
    "power_series_KW(5,chi,2,3,4) # compatible with Delbourgo-Chao Table 4, f=117, p=5, lambda=1"
   ]
  },
  {
   "cell_type": "code",
   "execution_count": 4,
   "id": "c7454298",
   "metadata": {},
   "outputs": [],
   "source": [
    "# example: quadratic character of conductor 47\n",
    "\n",
    "H = DirichletGroup(47, base_ring=CyclotomicField(2))\n",
    "M = H._module\n",
    "chi = DirichletCharacter(H, M([1]))"
   ]
  },
  {
   "cell_type": "code",
   "execution_count": 5,
   "id": "83f6e344",
   "metadata": {},
   "outputs": [
    {
     "data": {
      "text/plain": [
       "O(3^20) + (3^2 + 2*3^5 + 2*3^6 + 2*3^7 + 2*3^8 + 3^9 + 3^12 + 3^13 + 3^14 + 3^15 + 2*3^16 + 2*3^18 + O(3^19))*T + (1 + 3 + 2*3^2 + 2*3^3 + 2*3^4 + 2*3^7 + 3^10 + 3^11 + 2*3^15 + 3^16 + 2*3^17 + O(3^19))*T^2 + (1 + 2*3^3 + 3^4 + 2*3^5 + 3^6 + 2*3^9 + 2*3^11 + 2*3^12 + 2*3^13 + 3^14 + 3^15 + 3^16 + 3^17 + O(3^18))*T^3 + (2 + 2*3^3 + 2*3^5 + 3^6 + 2*3^7 + 2*3^9 + 3^12 + 2*3^13 + 2*3^14 + 2*3^15 + 2*3^17 + O(3^18))*T^4 + (1 + 3 + 3^2 + 2*3^5 + 3^6 + 2*3^11 + 3^12 + 3^15 + 3^16 + 3^17 + O(3^18))*T^5 + (1 + 3^2 + 2*3^3 + 2*3^4 + 3^5 + 2*3^8 + 2*3^10 + 2*3^11 + 3^12 + 2*3^13 + 3^14 + 3^15 + 3^16 + O(3^18))*T^6 + O(T^7)"
      ]
     },
     "execution_count": 5,
     "metadata": {},
     "output_type": "execute_result"
    }
   ],
   "source": [
    "power_series_KW(3,chi,1,5,7) # ok see Ernvall Table I (3,-47,1)"
   ]
  },
  {
   "cell_type": "code",
   "execution_count": null,
   "id": "cd3d38e8",
   "metadata": {},
   "outputs": [],
   "source": []
  }
 ],
 "metadata": {
  "kernelspec": {
   "display_name": "SageMath 9.5",
   "language": "sage",
   "name": "sagemath-9.5"
  },
  "language_info": {
   "codemirror_mode": {
    "name": "ipython",
    "version": 3
   },
   "file_extension": ".py",
   "mimetype": "text/x-python",
   "name": "python",
   "nbconvert_exporter": "python",
   "pygments_lexer": "ipython3",
   "version": "3.9.9"
  }
 },
 "nbformat": 4,
 "nbformat_minor": 5
}
