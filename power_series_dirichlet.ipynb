{
 "cells": [
  {
   "cell_type": "markdown",
   "id": "1d308984",
   "metadata": {},
   "source": [
    "## Computation of the Iwasawa power series for Dirichlet characters using series expansions"
   ]
  },
  {
   "cell_type": "markdown",
   "id": "6f15830d",
   "metadata": {},
   "source": [
    "References:\n",
    "\n",
    "[KW] Heiko Knospe and Lawrence Washington, Dirichlet series expansions of  𝑝 -adic  𝐿 -functions, Abhandlungen aus dem Mathematischen Seminar der Universität Hamburg 91 (2021), 325-334. Open access at https://link.springer.com/article/10.1007/s12188-021-00244-0."
   ]
  },
  {
   "cell_type": "code",
   "execution_count": 1,
   "id": "486b8337",
   "metadata": {},
   "outputs": [],
   "source": [
    "def power_series_KW(p,chi,i,N,M):\n",
    "    r\"\"\"\n",
    "    Return the Iwasawa power series of a p-adic L-function\n",
    "    \n",
    "    INPUT:\n",
    "    \n",
    "    - ``p`` -- prime number.\n",
    "    \n",
    "    - ``chi``-- Dirichlet character, use class DirichletCharacter.\n",
    "    \n",
    "    - ``i`` -- Teichmuller twist of $\\chi$.\n",
    "    \n",
    "    - ``N`` -- determines the accuracy of the resulting power series; $cond(\\chi)*p^N$ summation terms.\n",
    "    \n",
    "    - ``M`` -- the number of power series coefficients\n",
    "    \n",
    "    OUTPUT: first M coefficients of the power series $f(T,\\chi)$ of $L_p(\\chi\\omega^{i},s)$\n",
    "    \n",
    "    .. NOTE::\n",
    "    \n",
    "        The function uses the algorithm of [KW]_ Theorem 2.4 and the relation $T=(1+qd)^s-1$.\n",
    "    \"\"\"\n",
    "   \n",
    "    n = chi.order()  # order of $\\chi$\n",
    "    if gcd(n,p)>1:\n",
    "        print(\"Not yet implemented.\")\n",
    "        return()\n",
    "    cond = chi.conductor() # conductor of $\\chi$\n",
    "    if gcd(cond,p)>1:\n",
    "        print(\"Not yet implemented.\")\n",
    "        return()\n",
    "    \n",
    "    if M>15:\n",
    "        print(\"Not yet implemented.\")\n",
    "        return()\n",
    "    \n",
    "    K=Qp(p)\n",
    "    \n",
    "    \n",
    "    chi0 = chi.change_ring(CyclotomicField(n)) # use smallest field of values of $\\chi$\n",
    "   \n",
    "    f = mod(p,n).multiplicative_order() # degree of field extension of Qp containing $n$-th root of unity\n",
    "    \n",
    "    L.<pi>=Qq(p^f) # unramified field extension of Qp\n",
    "    if (f>1):\n",
    "        print(L)\n",
    "        \n",
    "    zeta=L.roots_of_unity(n)[1] # primitive $n$-th root of unity\n",
    "    \n",
    "    F=p^N * cond  #  number of terms, determines the accurracy \n",
    "    \n",
    "    \n",
    "    coeff=[L(0)]*15   # up to 15 coefficients\n",
    "    \n",
    "    #    i=ZZ(mod(i,p-1))\n",
    "    \n",
    "    Lq=log(K(1+p*cond))\n",
    "    L2=-log(K(2))/Lq\n",
    "    \n",
    "    \n",
    "    chiL2 = chi0(2).lift()\n",
    "    chi2 = chiL2(zeta)\n",
    "    \n",
    "    m2=L(2)/L.teichmuller(2)\n",
    "    \n",
    "    R.<T>=PowerSeriesRing(L)\n",
    "    \n",
    "    \n",
    "    for m in range(1,F):\n",
    "        if gcd(m,p)==1:\n",
    "            #mt=L(m)/L.teichmuller(m)\n",
    "            chiL = chi0(m).lift()\n",
    "            chia = chiL(zeta)\n",
    "            \n",
    "            Lm=-log(L(m))/L(Lq)\n",
    "            bLm = Lm   # used to compute the binomial coefficient\n",
    "            coeff[0]=coeff[0]+((-1)^m)*chia*(L.teichmuller(m))^(i-1)\n",
    "            \n",
    "            for k in range(1,M):\n",
    "                coeff[k]=coeff[k]+((-1)^m)*chia*bLm*(L.teichmuller(m))^(i-1) / factorial(k)\n",
    "                bLm = bLm*(Lm-k)\n",
    "            \n",
    "    \n",
    "    factor2 = -1/(2*R(1-chi2*(L.teichmuller(2)^(i))*m2*exp(log(R(1+T))*L2)))  # factor at 2    \n",
    "    \n",
    "    series = R(coeff[0:M]) * factor2      \n",
    "    return (series.O(M))        "
   ]
  },
  {
   "cell_type": "markdown",
   "id": "b2165f22",
   "metadata": {},
   "source": [
    "## Examples"
   ]
  },
  {
   "cell_type": "code",
   "execution_count": 2,
   "id": "ebca2dfd",
   "metadata": {},
   "outputs": [],
   "source": [
    "from sage.modular.dirichlet import DirichletCharacter\n",
    "\n",
    "# example: cubic character of conductor 117\n",
    "\n",
    "H = DirichletGroup(117, base_ring=CyclotomicField(6))\n",
    "M = H._module\n",
    "chi = DirichletCharacter(H, M([4,4]))"
   ]
  },
  {
   "cell_type": "code",
   "execution_count": 3,
   "id": "4c3db30c",
   "metadata": {},
   "outputs": [
    {
     "name": "stdout",
     "output_type": "stream",
     "text": [
      "5-adic Unramified Extension Field in pi defined by x^2 + 4*x + 2\n"
     ]
    },
    {
     "data": {
      "text/plain": [
       "(2*pi + 1)*5 + (pi + 4)*5^2 + (3*pi + 2)*5^3 + 2*pi*5^4 + pi*5^5 + (2*pi + 2)*5^6 + (2*pi + 3)*5^7 + 5^8 + (3*pi + 2)*5^9 + (4*pi + 3)*5^11 + (4*pi + 1)*5^12 + 4*pi*5^13 + (3*pi + 2)*5^14 + (4*pi + 4)*5^15 + (2*pi + 4)*5^16 + pi*5^17 + O(5^20) + (3*pi + (4*pi + 1)*5 + (pi + 4)*5^2 + (pi + 1)*5^3 + (4*pi + 2)*5^4 + (2*pi + 3)*5^6 + pi*5^7 + (2*pi + 1)*5^8 + 4*pi*5^9 + (4*pi + 3)*5^10 + (pi + 1)*5^11 + (3*pi + 3)*5^12 + (4*pi + 1)*5^13 + 3*pi*5^14 + (3*pi + 1)*5^16 + 5^17 + (2*pi + 2)*5^18 + O(5^19))*T + ((3*pi + 4) + 3*pi*5^2 + 4*pi*5^3 + (3*pi + 4)*5^4 + (2*pi + 2)*5^5 + (4*pi + 1)*5^6 + 4*5^7 + (3*pi + 1)*5^8 + (4*pi + 3)*5^9 + 3*pi*5^10 + (2*pi + 4)*5^11 + 3*5^12 + 2*5^13 + (2*pi + 1)*5^14 + (pi + 4)*5^16 + 4*pi*5^17 + (4*pi + 1)*5^18 + O(5^19))*T^2 + ((3*pi + 1) + (pi + 4)*5 + (2*pi + 3)*5^2 + (4*pi + 3)*5^3 + (pi + 1)*5^4 + (2*pi + 4)*5^5 + 2*5^6 + 3*pi*5^7 + 4*5^8 + (4*pi + 3)*5^9 + (3*pi + 4)*5^10 + (pi + 4)*5^11 + (3*pi + 1)*5^12 + (3*pi + 3)*5^13 + 2*5^14 + (2*pi + 1)*5^15 + (4*pi + 3)*5^16 + (pi + 3)*5^17 + 4*pi*5^18 + O(5^19))*T^3 + O(T^4)"
      ]
     },
     "execution_count": 3,
     "metadata": {},
     "output_type": "execute_result"
    }
   ],
   "source": [
    "power_series_KW(5,chi,2,4,4) # compatible with Delbourgo-Chao Table 4, f=117, p=5, lambda=1"
   ]
  },
  {
   "cell_type": "code",
   "execution_count": 4,
   "id": "34fb2281",
   "metadata": {},
   "outputs": [],
   "source": [
    "# example: quadratic character of conductor 47\n",
    "\n",
    "H = DirichletGroup(47, base_ring=CyclotomicField(2))\n",
    "M = H._module\n",
    "chi = DirichletCharacter(H, M([1]))"
   ]
  },
  {
   "cell_type": "code",
   "execution_count": 5,
   "id": "b4059651",
   "metadata": {},
   "outputs": [
    {
     "data": {
      "text/plain": [
       "O(3^20) + (3^2 + 2*3^5 + 2*3^6 + 2*3^7 + 2*3^8 + 3^9 + 3^12 + 3^13 + 3^14 + 3^15 + 2*3^16 + 2*3^18 + O(3^19))*T + (1 + 3 + 2*3^2 + 2*3^3 + 2*3^4 + 2*3^7 + 3^10 + 3^11 + 2*3^15 + 3^16 + 2*3^17 + O(3^19))*T^2 + (1 + 2*3^3 + 3^4 + 2*3^5 + 3^6 + 2*3^9 + 2*3^11 + 2*3^12 + 2*3^13 + 3^14 + 3^15 + 3^16 + 3^17 + O(3^18))*T^3 + (2 + 2*3^3 + 2*3^5 + 3^6 + 2*3^7 + 2*3^9 + 3^12 + 2*3^13 + 2*3^14 + 2*3^15 + 2*3^17 + O(3^18))*T^4 + (1 + 3 + 3^2 + 2*3^5 + 3^6 + 2*3^11 + 3^12 + 3^15 + 3^16 + 3^17 + O(3^18))*T^5 + (1 + 3^2 + 2*3^3 + 2*3^4 + 3^5 + 2*3^8 + 2*3^10 + 2*3^11 + 3^12 + 2*3^13 + 3^14 + 3^15 + 3^16 + O(3^18))*T^6 + O(T^7)"
      ]
     },
     "execution_count": 5,
     "metadata": {},
     "output_type": "execute_result"
    }
   ],
   "source": [
    "power_series_KW(3,chi,1,5,7) # p=3, see Ernvall Table I (3,-47,1)"
   ]
  },
  {
   "cell_type": "code",
   "execution_count": 6,
   "id": "0bab564a",
   "metadata": {},
   "outputs": [],
   "source": [
    "H = DirichletGroup(77, base_ring=CyclotomicField(2))\n",
    "M = H._module\n",
    "chi = DirichletCharacter(H, M([1,1]))"
   ]
  },
  {
   "cell_type": "code",
   "execution_count": 7,
   "id": "5fd59320",
   "metadata": {},
   "outputs": [
    {
     "data": {
      "text/plain": [
       "3 + 3^2 + O(3^20) + (3 + 3^4 + 2*3^6 + 3^7 + 3^8 + 3^10 + 3^11 + 2*3^13 + 3^14 + 2*3^15 + 2*3^16 + O(3^19))*T + (2 + 3 + 3^2 + 2*3^3 + 3^4 + 2*3^6 + 2*3^8 + 3^9 + 3^17 + 3^18 + O(3^19))*T^2 + (2 + 2*3^2 + 3^3 + 2*3^4 + 3^5 + 3^7 + 2*3^8 + 3^9 + 3^10 + 3^11 + 3^13 + 2*3^16 + 2*3^17 + O(3^18))*T^3 + (2 + 3^2 + 3^3 + 3^4 + 2*3^5 + 3^6 + 2*3^8 + 3^9 + 3^10 + 3^12 + 2*3^14 + 2*3^16 + 3^17 + O(3^18))*T^4 + (2 + 3^2 + 3^3 + 3^4 + 2*3^5 + 2*3^6 + 3^11 + 2*3^12 + 3^13 + 3^14 + 3^15 + 3^17 + O(3^18))*T^5 + (3^3 + 2*3^4 + 3^5 + 3^7 + 3^8 + 2*3^9 + 2*3^10 + 2*3^11 + 2*3^13 + 3^15 + 2*3^17 + O(3^18))*T^6 + O(T^7)"
      ]
     },
     "execution_count": 7,
     "metadata": {},
     "output_type": "execute_result"
    }
   ],
   "source": [
    "power_series_KW(3,chi,0,5,7) # p=3, lambda=2"
   ]
  },
  {
   "cell_type": "code",
   "execution_count": 8,
   "id": "59e93443",
   "metadata": {},
   "outputs": [],
   "source": [
    "H = DirichletGroup(239, base_ring=CyclotomicField(2))\n",
    "M = H._module\n",
    "chi = DirichletCharacter(H, M([1]))"
   ]
  },
  {
   "cell_type": "code",
   "execution_count": 9,
   "id": "74b84d20",
   "metadata": {},
   "outputs": [
    {
     "data": {
      "text/plain": [
       "O(3^20) + (3 + 2*3^3 + 2*3^4 + 2*3^5 + 3^6 + 3^7 + 2*3^8 + 3^9 + 3^10 + 3^12 + 3^13 + 3^16 + O(3^19))*T + (3 + 3^2 + 2*3^3 + 3^4 + 3^5 + 2*3^6 + 3^7 + 2*3^8 + 2*3^9 + 2*3^10 + 3^11 + 3^12 + 2*3^13 + 3^16 + 2*3^18 + O(3^19))*T^2 + (3 + 2*3^3 + 2*3^5 + 2*3^7 + 3^8 + 3^10 + 2*3^11 + 2*3^12 + 3^13 + 2*3^16 + O(3^18))*T^3 + (2*3 + 3^3 + 2*3^4 + 2*3^8 + 2*3^10 + 2*3^11 + 2*3^13 + 2*3^15 + 3^16 + O(3^18))*T^4 + (2*3 + 3^2 + 2*3^4 + 2*3^5 + 2*3^6 + 2*3^13 + 2*3^14 + 3^15 + 2*3^17 + O(3^18))*T^5 + (1 + 3^4 + 2*3^6 + 3^8 + 3^9 + 3^11 + 3^12 + 2*3^13 + 3^14 + 3^15 + 2*3^16 + 2*3^17 + O(3^18))*T^6 + O(T^7)"
      ]
     },
     "execution_count": 9,
     "metadata": {},
     "output_type": "execute_result"
    }
   ],
   "source": [
    "power_series_KW(3,chi,1,5,7) # p=3, lambda=6, trivial zero"
   ]
  },
  {
   "cell_type": "code",
   "execution_count": 10,
   "id": "6c71035d",
   "metadata": {},
   "outputs": [],
   "source": [
    "H = DirichletGroup(281, base_ring=CyclotomicField(20))\n",
    "M = H._module\n",
    "chi = DirichletCharacter(H, M([13]))"
   ]
  },
  {
   "cell_type": "code",
   "execution_count": 11,
   "id": "c90c71dd",
   "metadata": {},
   "outputs": [
    {
     "name": "stdout",
     "output_type": "stream",
     "text": [
      "3-adic Unramified Extension Field in pi defined by x^4 + 2*x^3 + 2\n"
     ]
    },
    {
     "data": {
      "text/plain": [
       "(2*pi^3 + pi^2 + 2*pi + 1)*3 + (2*pi^3 + 2*pi^2 + 2*pi + 2)*3^2 + (2*pi^3 + 2*pi^2)*3^3 + (pi^3 + pi^2 + pi + 2)*3^4 + (2*pi^3 + 2*pi)*3^5 + (2*pi^3 + 2*pi^2 + 2*pi)*3^6 + pi^3*3^7 + (pi^3 + pi^2 + 2*pi)*3^8 + (pi^2 + pi + 2)*3^9 + (pi^2 + pi)*3^10 + (pi^3 + pi^2 + pi)*3^11 + (2*pi^3 + 2*pi^2 + 2*pi + 1)*3^12 + (pi^2 + pi + 2)*3^13 + (2*pi + 2)*3^14 + (2*pi^3 + pi + 1)*3^15 + (pi^3 + pi^2 + pi + 2)*3^16 + (pi^3 + pi^2 + pi + 1)*3^17 + (2*pi^3 + 2*pi^2 + 2)*3^18 + (2*pi^2 + pi)*3^19 + O(3^20) + ((pi^2 + pi + 1) + (2*pi^3 + pi + 2)*3 + (pi^3 + pi^2 + 2*pi + 2)*3^2 + (pi^3 + 2*pi)*3^3 + 2*pi*3^4 + (pi^3 + 2*pi^2 + pi + 1)*3^5 + (pi^3 + pi^2 + 2)*3^7 + (2*pi + 2)*3^8 + (2*pi^3 + 2*pi)*3^9 + (2*pi^3 + 2*pi^2 + pi + 2)*3^10 + (pi + 2)*3^11 + (2*pi^3 + pi^2 + 2*pi + 1)*3^12 + (pi^3 + 2*pi^2 + pi)*3^13 + (pi^3 + 2*pi^2 + pi + 1)*3^14 + (pi^3 + pi^2 + pi + 2)*3^15 + 2*pi^2*3^16 + (2*pi^3 + 2*pi^2 + 2*pi + 2)*3^17 + (2*pi^3 + pi^2 + 2*pi + 1)*3^18 + O(3^19))*T + ((2*pi^3 + pi) + (pi^2 + 2*pi + 1)*3 + (2*pi^2 + 2*pi)*3^2 + (2*pi^2 + 2*pi + 2)*3^3 + (2*pi^3 + pi^2 + 1)*3^4 + 2*3^5 + (pi^2 + pi + 1)*3^6 + (2*pi^3 + 2)*3^7 + (2*pi^3 + pi + 1)*3^8 + (pi^3 + 2*pi^2 + pi + 2)*3^9 + (pi^3 + 2*pi^2 + 2)*3^10 + 3^11 + (2*pi^3 + pi^2 + 2*pi)*3^12 + (2*pi^3 + pi^2 + pi + 1)*3^13 + (pi^2 + pi)*3^14 + (pi^2 + pi + 1)*3^15 + (pi^2 + pi)*3^16 + (pi^3 + pi^2 + 2)*3^17 + (pi^3 + 2*pi^2 + 2*pi)*3^18 + O(3^19))*T^2 + ((2*pi^3 + 2*pi^2 + pi) + (2*pi^3 + 2*pi^2 + 2*pi)*3 + (2*pi^2 + 2*pi + 1)*3^2 + (2*pi + 2)*3^3 + (pi^2 + 1)*3^4 + pi^3*3^5 + (2*pi^3 + 2*pi^2 + 2*pi + 2)*3^6 + (2*pi^3 + 2*pi^2 + 1)*3^7 + (pi^3 + pi)*3^8 + (2*pi^3 + pi^2 + pi)*3^9 + (2*pi^3 + 2*pi^2 + 2*pi + 2)*3^10 + (2*pi^3 + 2*pi^2 + 2)*3^11 + (pi^3 + pi + 1)*3^12 + (2*pi^3 + pi + 2)*3^13 + (2*pi^2 + pi)*3^14 + (2*pi^2 + 2*pi + 1)*3^15 + (pi^2 + 2)*3^16 + (pi^2 + pi)*3^17 + O(3^18))*T^3 + ((2*pi^2 + pi + 1) + (2*pi^2 + 1)*3 + (2*pi^2 + 2*pi + 2)*3^2 + (pi^3 + pi^2 + 2*pi + 1)*3^3 + 3^4 + (2*pi^2 + 2*pi + 2)*3^5 + (2*pi^3 + 2*pi^2 + 2*pi + 2)*3^6 + 2*pi*3^7 + (2*pi^3 + pi^2 + pi)*3^8 + (pi^2 + 2)*3^9 + (2*pi^3 + pi^2 + pi + 1)*3^10 + (pi^3 + pi^2 + 2*pi)*3^11 + (pi^3 + 2*pi^2 + 2*pi)*3^12 + (pi^3 + 2*pi^2 + 2)*3^13 + (pi^2 + 2*pi + 1)*3^14 + (2*pi^3 + pi^2 + 2*pi)*3^15 + (2*pi^3 + 2*pi^2 + 2)*3^16 + (pi^2 + 2*pi)*3^17 + O(3^18))*T^4 + (2*pi^3 + (pi^2 + 2*pi + 2)*3 + (pi^3 + 2*pi)*3^2 + (pi^2 + 2*pi)*3^3 + (2*pi^2 + pi + 2)*3^4 + (2*pi^3 + 2*pi^2 + 1)*3^5 + (2*pi^3 + pi^2 + 2)*3^6 + (pi^3 + pi^2 + pi + 1)*3^7 + (pi^3 + pi + 2)*3^8 + (2*pi^3 + 2*pi^2 + pi + 2)*3^9 + (pi^3 + 2*pi^2 + 2*pi + 1)*3^10 + (2*pi^3 + 2)*3^11 + pi^3*3^12 + (pi^3 + pi)*3^13 + (2*pi^3 + pi^2 + 2*pi + 2)*3^14 + (2*pi^2 + 2)*3^15 + (2*pi^3 + pi^2 + 1)*3^16 + (pi^3 + 1)*3^17 + O(3^18))*T^5 + (pi^3 + (2*pi^2 + pi)*3 + (2*pi^2 + 2*pi)*3^2 + 3^3 + (pi^3 + 1)*3^4 + (pi^3 + 2*pi + 1)*3^5 + (2*pi^3 + 2*pi^2 + 2*pi + 1)*3^6 + (pi^3 + pi^2 + 2)*3^7 + (pi^3 + 2*pi^2 + 2*pi)*3^8 + (pi^3 + pi^2 + pi)*3^9 + (2*pi^3 + 2*pi^2 + 2*pi + 1)*3^10 + pi^2*3^11 + (pi^3 + pi^2 + 2*pi)*3^12 + (pi^3 + pi^2 + 2*pi + 2)*3^13 + (pi^2 + 2*pi)*3^14 + (2*pi^3 + pi^2 + 2*pi)*3^15 + pi^3*3^16 + (pi^3 + 2*pi^2 + 2*pi)*3^17 + O(3^18))*T^6 + O(T^7)"
      ]
     },
     "execution_count": 11,
     "metadata": {},
     "output_type": "execute_result"
    }
   ],
   "source": [
    "power_series_KW(3,chi,0,5,7) # p=3, lambda=1"
   ]
  },
  {
   "cell_type": "code",
   "execution_count": 12,
   "id": "0bbf4666",
   "metadata": {},
   "outputs": [],
   "source": [
    "H = DirichletGroup(365, base_ring=CyclotomicField(8))\n",
    "M = H._module\n",
    "chi = DirichletCharacter(H, M([4,5]))"
   ]
  },
  {
   "cell_type": "code",
   "execution_count": 13,
   "id": "6c1d51ff",
   "metadata": {},
   "outputs": [
    {
     "name": "stdout",
     "output_type": "stream",
     "text": [
      "3-adic Unramified Extension Field in pi defined by x^2 + 2*x + 2\n"
     ]
    },
    {
     "data": {
      "text/plain": [
       "2*3 + 3^3 + 2*3^4 + 3^5 + 3^6 + 2*3^8 + 2*3^9 + 2*3^10 + 3^11 + 2*3^12 + 3^14 + 2*3^16 + O(3^19) + ((2*pi + 2)*3 + (pi + 1)*3^2 + (2*pi + 2)*3^4 + (2*pi + 1)*3^5 + 2*3^6 + (2*pi + 1)*3^7 + 2*3^8 + 2*pi*3^9 + 2*3^10 + (pi + 1)*3^11 + 3^12 + pi*3^13 + (pi + 2)*3^14 + (2*pi + 1)*3^15 + 2*3^17 + O(3^18))*T + ((2*pi + 1)*3 + 2*3^3 + (2*pi + 1)*3^4 + (2*pi + 1)*3^5 + 3^6 + 2*pi*3^7 + 3^8 + 3^9 + (pi + 1)*3^12 + (2*pi + 1)*3^13 + (pi + 1)*3^14 + (2*pi + 1)*3^15 + pi*3^16 + O(3^17))*T^2 + ((pi + 1) + 3 + (2*pi + 2)*3^3 + 2*pi*3^4 + (pi + 1)*3^5 + 2*3^6 + (2*pi + 2)*3^7 + 3^8 + (2*pi + 2)*3^9 + 2*pi*3^10 + (2*pi + 1)*3^11 + 2*3^12 + (pi + 2)*3^13 + pi*3^14 + pi*3^15 + O(3^16))*T^3 + (pi + (pi + 1)*3 + 3^2 + (pi + 2)*3^3 + (2*pi + 1)*3^4 + 3^5 + 3^6 + (2*pi + 1)*3^7 + (2*pi + 1)*3^8 + 2*3^9 + 2*3^10 + (2*pi + 2)*3^11 + (2*pi + 1)*3^12 + (2*pi + 1)*3^13 + pi*3^14 + O(3^15))*T^4 + O(T^5)"
      ]
     },
     "execution_count": 13,
     "metadata": {},
     "output_type": "execute_result"
    }
   ],
   "source": [
    "power_series_KW(3,chi,1,4,5) # p=3, lambda=3"
   ]
  },
  {
   "cell_type": "code",
   "execution_count": 14,
   "id": "15e3c559",
   "metadata": {},
   "outputs": [],
   "source": [
    "H = DirichletGroup(579, base_ring=CyclotomicField(4))\n",
    "M = H._module\n",
    "chi = DirichletCharacter(H, M([2,3]))"
   ]
  },
  {
   "cell_type": "code",
   "execution_count": 15,
   "id": "2e4be474",
   "metadata": {},
   "outputs": [
    {
     "data": {
      "text/plain": [
       "2*5 + 3*5^2 + 5^3 + 5^4 + 2*5^5 + 3*5^6 + 3*5^7 + 5^10 + 4*5^12 + 2*5^13 + 4*5^14 + 5^15 + 5^16 + 5^17 + 2*5^18 + 3*5^19 + O(5^20) + (4 + 3*5 + 4*5^2 + 2*5^4 + 3*5^5 + 2*5^6 + 2*5^7 + 4*5^8 + 3*5^9 + 3*5^10 + 2*5^11 + 2*5^12 + 2*5^13 + 2*5^14 + 3*5^15 + 5^16 + 3*5^18 + O(5^19))*T + (2 + 4*5 + 2*5^2 + 5^3 + 3*5^4 + 4*5^6 + 4*5^7 + 3*5^8 + 5^9 + 3*5^10 + 5^11 + 5^12 + 5^14 + 4*5^16 + 3*5^17 + 3*5^18 + O(5^19))*T^2 + (3 + 2*5^2 + 4*5^3 + 5^5 + 4*5^6 + 3*5^7 + 4*5^8 + 3*5^9 + 3*5^11 + 4*5^12 + 3*5^13 + 5^14 + 2*5^15 + 4*5^16 + 5^17 + O(5^19))*T^3 + (2 + 3*5^2 + 3*5^3 + 4*5^4 + 3*5^5 + 4*5^6 + 3*5^7 + 5^8 + 3*5^9 + 3*5^10 + 3*5^13 + 4*5^14 + 5^16 + 4*5^17 + 3*5^18 + O(5^19))*T^4 + O(T^5)"
      ]
     },
     "execution_count": 15,
     "metadata": {},
     "output_type": "execute_result"
    }
   ],
   "source": [
    "power_series_KW(5,chi,3,4,5) # p=5, lambda=1"
   ]
  },
  {
   "cell_type": "code",
   "execution_count": 16,
   "id": "2466db35",
   "metadata": {},
   "outputs": [],
   "source": [
    "H = DirichletGroup(623, base_ring=CyclotomicField(4))\n",
    "M = H._module\n",
    "chi = DirichletCharacter(H, M([2,1]))"
   ]
  },
  {
   "cell_type": "code",
   "execution_count": 17,
   "id": "1fca8a7c",
   "metadata": {},
   "outputs": [
    {
     "data": {
      "text/plain": [
       "O(5^20) + (4*5 + 5^2 + 5^3 + 3*5^4 + 3*5^5 + 3*5^6 + 2*5^7 + 2*5^8 + 5^10 + 2*5^11 + 3*5^12 + 4*5^13 + 2*5^14 + 3*5^17 + O(5^19))*T + (2*5 + 2*5^2 + 3*5^3 + 4*5^4 + 5^5 + 3*5^6 + 2*5^10 + 3*5^12 + 2*5^15 + 5^16 + 3*5^17 + 5^18 + O(5^19))*T^2 + (3*5 + 3*5^3 + 5^4 + 2*5^5 + 5^6 + 2*5^7 + 2*5^8 + 2*5^9 + 5^10 + 3*5^11 + 4*5^12 + 2*5^13 + 5^14 + 4*5^16 + 5^18 + O(5^19))*T^3 + (4 + 4*5 + 4*5^3 + 5^4 + 3*5^7 + 5^9 + 5^10 + 3*5^11 + 4*5^12 + 4*5^13 + 3*5^14 + 2*5^15 + 5^16 + 5^17 + 2*5^18 + O(5^19))*T^4 + O(T^5)"
      ]
     },
     "execution_count": 17,
     "metadata": {},
     "output_type": "execute_result"
    }
   ],
   "source": [
    "power_series_KW(5,chi,1,4,5) # p=5, lambda=4, trivial zero"
   ]
  },
  {
   "cell_type": "code",
   "execution_count": 18,
   "id": "8520e881",
   "metadata": {},
   "outputs": [],
   "source": [
    "H = DirichletGroup(823, base_ring=CyclotomicField(6))\n",
    "M = H._module\n",
    "chi = DirichletCharacter(H, M([4]))"
   ]
  },
  {
   "cell_type": "code",
   "execution_count": 19,
   "id": "c6012273",
   "metadata": {},
   "outputs": [
    {
     "name": "stdout",
     "output_type": "stream",
     "text": [
      "5-adic Unramified Extension Field in pi defined by x^2 + 4*x + 2\n"
     ]
    },
    {
     "data": {
      "text/plain": [
       "5 + (3*pi + 3)*5^2 + pi*5^3 + (4*pi + 1)*5^4 + (2*pi + 2)*5^5 + 2*5^7 + 2*pi*5^8 + 5^9 + (3*pi + 1)*5^10 + 3*5^11 + (3*pi + 3)*5^13 + (4*pi + 4)*5^14 + 2*5^15 + 4*5^16 + (4*pi + 1)*5^17 + 3*pi*5^18 + (pi + 4)*5^19 + O(5^20) + (2*pi + pi*5 + 5^4 + 4*5^5 + (4*pi + 2)*5^6 + (2*pi + 1)*5^7 + 2*5^8 + 2*5^9 + 4*pi*5^10 + (pi + 2)*5^11 + (2*pi + 1)*5^12 + (3*pi + 4)*5^13 + (pi + 3)*5^14 + (pi + 4)*5^15 + (3*pi + 3)*5^17 + O(5^19))*T + (3 + (4*pi + 2)*5 + pi*5^2 + (4*pi + 1)*5^3 + (3*pi + 4)*5^4 + (4*pi + 2)*5^5 + (4*pi + 4)*5^6 + 3*5^7 + (4*pi + 2)*5^8 + (4*pi + 2)*5^9 + 4*pi*5^10 + 3*5^11 + (4*pi + 2)*5^12 + (4*pi + 3)*5^13 + (2*pi + 1)*5^14 + (4*pi + 4)*5^15 + (4*pi + 2)*5^16 + 2*5^17 + (pi + 2)*5^18 + O(5^19))*T^2 + ((pi + 2) + 2*5 + (pi + 4)*5^2 + (pi + 1)*5^3 + 4*pi*5^4 + (4*pi + 1)*5^5 + (pi + 4)*5^6 + (4*pi + 1)*5^7 + (2*pi + 4)*5^8 + (2*pi + 3)*5^9 + 2*pi*5^10 + (3*pi + 1)*5^11 + 3*pi*5^12 + pi*5^13 + (3*pi + 3)*5^14 + pi*5^15 + (3*pi + 4)*5^16 + (4*pi + 4)*5^17 + (4*pi + 3)*5^18 + O(5^19))*T^3 + ((pi + 4) + (2*pi + 3)*5 + (4*pi + 3)*5^2 + (2*pi + 3)*5^3 + (3*pi + 2)*5^4 + (pi + 2)*5^5 + (4*pi + 4)*5^6 + 3*pi*5^7 + pi*5^8 + (2*pi + 3)*5^9 + (2*pi + 4)*5^10 + 4*5^11 + (pi + 4)*5^12 + 2*5^13 + 4*5^14 + (2*pi + 2)*5^15 + 5^16 + (4*pi + 4)*5^17 + 3*5^18 + O(5^19))*T^4 + O(T^5)"
      ]
     },
     "execution_count": 19,
     "metadata": {},
     "output_type": "execute_result"
    }
   ],
   "source": [
    "power_series_KW(5,chi,2,4,5) # p=5, lambda=1"
   ]
  },
  {
   "cell_type": "code",
   "execution_count": 20,
   "id": "a869acd4",
   "metadata": {},
   "outputs": [],
   "source": [
    "H = DirichletGroup(51, base_ring=CyclotomicField(2))\n",
    "M = H._module\n",
    "chi = DirichletCharacter(H, M([1,1]))"
   ]
  },
  {
   "cell_type": "code",
   "execution_count": 21,
   "id": "d5bf9df6",
   "metadata": {},
   "outputs": [
    {
     "data": {
      "text/plain": [
       "O(5^20) + (4*5^3 + 5^4 + 2*5^5 + 4*5^6 + 3*5^7 + 3*5^9 + 5^10 + 3*5^11 + 5^12 + 2*5^13 + 4*5^14 + 4*5^15 + 2*5^16 + 2*5^17 + 2*5^18 + O(5^19))*T + (3 + 2*5 + 4*5^2 + 3*5^3 + 2*5^4 + 4*5^6 + 5^7 + 2*5^9 + 2*5^10 + 3*5^12 + 4*5^13 + 3*5^15 + 3*5^16 + 2*5^18 + O(5^19))*T^2 + (1 + 3*5 + 3*5^2 + 2*5^3 + 5^4 + 3*5^5 + 2*5^8 + 3*5^9 + 3*5^11 + 5^13 + 5^14 + 2*5^15 + 5^16 + 5^18 + O(5^19))*T^3 + (2 + 4*5 + 4*5^2 + 3*5^3 + 2*5^4 + 4*5^5 + 2*5^6 + 2*5^7 + 5^8 + 4*5^9 + 5^10 + 2*5^11 + 2*5^12 + 3*5^14 + 5^15 + 5^16 + 2*5^17 + 5^18 + O(5^19))*T^4 + O(T^5)"
      ]
     },
     "execution_count": 21,
     "metadata": {},
     "output_type": "execute_result"
    }
   ],
   "source": [
    "power_series_KW(5,chi,1,4,5) # p=5, lambda=2, trivial zero"
   ]
  },
  {
   "cell_type": "code",
   "execution_count": 22,
   "id": "853d2323",
   "metadata": {},
   "outputs": [],
   "source": [
    "H=DirichletGroup(97, base_ring=CyclotomicField(6))\n",
    "M = H._module\n",
    "chi = DirichletCharacter(H, M([4]))"
   ]
  },
  {
   "cell_type": "code",
   "execution_count": 23,
   "id": "74f8d378",
   "metadata": {},
   "outputs": [
    {
     "data": {
      "text/plain": [
       "5*7 + 4*7^2 + 2*7^3 + 3*7^4 + 5*7^5 + 2*7^6 + 3*7^7 + 5*7^8 + 6*7^10 + 6*7^11 + 5*7^12 + 2*7^13 + 7^14 + 6*7^15 + 4*7^17 + 4*7^18 + 4*7^19 + O(7^20) + (2 + 7 + 2*7^2 + 7^3 + 6*7^5 + 7^6 + 6*7^7 + 2*7^8 + 4*7^9 + 2*7^10 + 2*7^11 + 3*7^12 + 4*7^13 + 5*7^14 + 6*7^16 + 2*7^17 + 5*7^18 + O(7^19))*T + (4 + 3*7^3 + 3*7^4 + 5*7^5 + 3*7^6 + 3*7^7 + 4*7^8 + 7^9 + 4*7^10 + 2*7^11 + 4*7^12 + 6*7^13 + 7^14 + 6*7^16 + 3*7^17 + 4*7^18 + O(7^19))*T^2 + (6*7 + 3*7^2 + 3*7^4 + 2*7^5 + 3*7^7 + 6*7^8 + 5*7^9 + 2*7^10 + 4*7^11 + 3*7^12 + 5*7^13 + 3*7^14 + 2*7^15 + O(7^19))*T^3 + (4 + 4*7 + 6*7^2 + 7^4 + 2*7^5 + 4*7^6 + 2*7^7 + 4*7^8 + 2*7^9 + 6*7^10 + 5*7^11 + 2*7^12 + 4*7^13 + 7^14 + 3*7^16 + 2*7^17 + 6*7^18 + O(7^19))*T^4 + O(T^5)"
      ]
     },
     "execution_count": 23,
     "metadata": {},
     "output_type": "execute_result"
    }
   ],
   "source": [
    "power_series_KW(7,chi,0,4,5) # p=7, lambda=1"
   ]
  },
  {
   "cell_type": "code",
   "execution_count": 24,
   "id": "907c6401",
   "metadata": {},
   "outputs": [],
   "source": [
    "H = DirichletGroup(19, base_ring=CyclotomicField(6))\n",
    "M = H._module\n",
    "chi = DirichletCharacter(H, M([1]))"
   ]
  },
  {
   "cell_type": "code",
   "execution_count": 25,
   "id": "c6849896",
   "metadata": {},
   "outputs": [
    {
     "data": {
      "text/plain": [
       "O(7^20) + (2*7^2 + 7^3 + 3*7^4 + 6*7^5 + 7^6 + 4*7^7 + 4*7^8 + 7^9 + 2*7^10 + 5*7^11 + 3*7^12 + 4*7^13 + 2*7^15 + 4*7^16 + 5*7^17 + 6*7^18 + O(7^19))*T + (6*7 + 3*7^2 + 5*7^3 + 4*7^4 + 6*7^5 + 4*7^6 + 6*7^7 + 4*7^8 + 6*7^10 + 5*7^11 + 4*7^12 + 6*7^13 + 5*7^14 + 5*7^15 + 5*7^17 + 4*7^18 + O(7^19))*T^2 + (6*7 + 4*7^2 + 4*7^3 + 2*7^4 + 2*7^5 + 4*7^6 + 5*7^7 + 3*7^8 + 2*7^9 + 3*7^10 + 5*7^11 + 5*7^12 + 6*7^13 + 4*7^14 + 4*7^15 + 6*7^16 + 6*7^17 + 4*7^18 + O(7^19))*T^3 + (6 + 7 + 2*7^4 + 5*7^5 + 7^6 + 3*7^7 + 3*7^8 + 2*7^9 + 4*7^10 + 7^11 + 3*7^12 + 3*7^13 + 6*7^15 + 2*7^16 + 5*7^17 + 4*7^18 + O(7^19))*T^4 + (3 + 3*7 + 5*7^2 + 2*7^3 + 7^4 + 5*7^5 + 3*7^6 + 6*7^7 + 3*7^9 + 5*7^10 + 3*7^11 + 4*7^12 + 7^13 + 4*7^14 + 2*7^16 + 6*7^17 + 2*7^18 + O(7^19))*T^5 + O(T^6)"
      ]
     },
     "execution_count": 25,
     "metadata": {},
     "output_type": "execute_result"
    }
   ],
   "source": [
    "power_series_KW(7,chi,1,4,6) # lambda=4, trivial zero"
   ]
  }
 ],
 "metadata": {
  "kernelspec": {
   "display_name": "SageMath 9.5",
   "language": "sage",
   "name": "sagemath-9.5"
  },
  "language_info": {
   "codemirror_mode": {
    "name": "ipython",
    "version": 3
   },
   "file_extension": ".py",
   "mimetype": "text/x-python",
   "name": "python",
   "nbconvert_exporter": "python",
   "pygments_lexer": "ipython3",
   "version": "3.9.9"
  }
 },
 "nbformat": 4,
 "nbformat_minor": 5
}
