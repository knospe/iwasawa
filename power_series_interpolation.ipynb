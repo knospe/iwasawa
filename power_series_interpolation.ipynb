{
 "cells": [
  {
   "cell_type": "markdown",
   "id": "d70234c6",
   "metadata": {},
   "source": [
    "## The Iwasawa power series for Dirichlet characters via interpolation of Bernoulli numbers"
   ]
  },
  {
   "cell_type": "markdown",
   "id": "e7451d01",
   "metadata": {},
   "source": [
    "*Work in progress by Daniel Delbourgo and Heiko Knospe*"
   ]
  },
  {
   "cell_type": "code",
   "execution_count": 1,
   "id": "3e77e57b",
   "metadata": {},
   "outputs": [],
   "source": [
    "def power_series_interpolation(chi,p,i):\n",
    "    r\"\"\"\n",
    "    Returns the coefficients of the Iwasawa power series.\n",
    "    The computation uses interpolaton of Bernoulli numbers.\n",
    "    \n",
    "    INPUT:\n",
    "    \n",
    "  \n",
    "    - ``chi``-- Dirichlet character, uses the SageMath class DirichletCharacter.\n",
    "    \n",
    "    - ``p`` -- prime number.\n",
    "    \n",
    "    - ``i`` -- Teichmuller twist of $\\chi$.\n",
    "    \n",
    "    \n",
    "    OUTPUT: array of coefficients of the Iwasawa power series, starting with the constant coefficient\n",
    "    \n",
    "    \n",
    "    \"\"\"\n",
    "    n = chi.order() \n",
    "    chi0 = chi.change_ring(CyclotomicField(n)) \n",
    "    \n",
    "    f = mod(p,n).multiplicative_order() # degree of field extension of Qp containing $n$-th root of unity\n",
    "    \n",
    "    L.<pi>=Qq(p^f) # unramified field extension of Qp\n",
    "    \n",
    "    zeta=L.roots_of_unity(n)[1]\n",
    "    chip=chi0(p).lift()(zeta)\n",
    "    \n",
    "    points=[(L((1+p)^(j-1)-1),(-1)*chi0.bernoulli(j).lift()(zeta)/j * (1-chip*p^(j-1))) for j in range(p-1+i,15*p,p-1)]\n",
    "    f = PolynomialRing(L,'x').lagrange_polynomial(points)\n",
    "    \n",
    "    coeff=list(f)\n",
    "    return(coeff)"
   ]
  },
  {
   "cell_type": "code",
   "execution_count": 2,
   "id": "1e9b0be4",
   "metadata": {},
   "outputs": [],
   "source": [
    "def power_series_interpolation_W(chi,p,i):\n",
    "    r\"\"\"\n",
    "    Returns the coefficients of the Iwasawa power series.\n",
    "    The computation uses interpolaton of Bernoulli numbers.\n",
    "    Same as power_series_interpolation, but use Washington's choice of variable T=(1+cond(chi)*p)^s - 1\n",
    "    \n",
    "    INPUT:\n",
    "    \n",
    "  \n",
    "    - ``chi``-- Dirichlet character, uses the SageMath class DirichletCharacter.\n",
    "    \n",
    "    - ``p`` -- prime number.\n",
    "    \n",
    "    - ``i`` -- Teichmuller twist of $\\chi$.\n",
    "    \n",
    "    \n",
    "    OUTPUT: array of coefficients of the Iwasawa power series, starting with the constant coefficient\n",
    "    \n",
    "    \n",
    "    \"\"\"\n",
    "    n = chi.order() \n",
    "    cond = chi.conductor() # conductor of $\\chi$\n",
    "    \n",
    "    if gcd(cond,p)>1:\n",
    "        print(\"Not yet implemented.\")\n",
    "        return()\n",
    "    \n",
    "    chi0 = chi.change_ring(CyclotomicField(n)) \n",
    "    \n",
    "    f = mod(p,n).multiplicative_order() # degree of field extension of Qp containing $n$-th root of unity\n",
    "    \n",
    "    L.<pi>=Qq(p^f) # unramified field extension of Qp\n",
    "    \n",
    "    zeta=L.roots_of_unity(n)[1]\n",
    "    chip=chi0(p).lift()(zeta)\n",
    "    \n",
    "    points=[(L((1+cond*p)^(-j+1)-1),(-1)*chi0.bernoulli(j).lift()(zeta)/j * (1-chip*p^(j-1))) for j in range(p-1+i,15*p,p-1)]\n",
    "    f = PolynomialRing(L,'x').lagrange_polynomial(points)\n",
    "    \n",
    "    coeff=list(f)\n",
    "    return(coeff)"
   ]
  },
  {
   "cell_type": "code",
   "execution_count": 3,
   "id": "2219eed7",
   "metadata": {},
   "outputs": [],
   "source": [
    "# example: odd quadratic character of conductor 47\n",
    "from sage.modular.dirichlet import DirichletCharacter\n",
    "H = DirichletGroup(47, base_ring=CyclotomicField(2))\n",
    "M = H._module\n",
    "chi = DirichletCharacter(H, M([1]))"
   ]
  },
  {
   "cell_type": "code",
   "execution_count": 4,
   "id": "9be7681f",
   "metadata": {},
   "outputs": [
    {
     "data": {
      "text/plain": [
       "[O(3^22),\n",
       " 3^2 + 2*3^5 + 2*3^6 + 2*3^7 + 2*3^8 + 3^9 + 3^11 + 3^12 + 2*3^15 + 3^16 + 2*3^18 + O(3^19),\n",
       " 1 + 3 + 2*3^2 + 2*3^3 + 2*3^4 + 2*3^7 + 2*3^10 + 2*3^11 + 3^12 + 3^13 + 3^15 + O(3^16),\n",
       " 1 + 2*3^3 + 3^4 + 2*3^5 + 3^6 + 3^9 + 2*3^11 + 3^12 + 3^13 + O(3^14),\n",
       " 2 + 2*3^3 + 2*3^5 + 3^6 + 2*3^7 + 2*3^8 + 2*3^9 + 3^10 + O(3^12),\n",
       " 1 + 3 + 3^2 + 2*3^5 + 3^6 + O(3^10),\n",
       " 1 + 3^2 + 2*3^3 + 2*3^4 + 3^5 + 3^7 + O(3^8),\n",
       " 2 + 3 + 2*3^5 + O(3^7),\n",
       " 2 + 3^4 + O(3^6),\n",
       " 2*3 + 3^4 + O(3^5),\n",
       " 2 + 3 + 2*3^2 + O(3^4),\n",
       " 2 + 3^2 + O(3^3),\n",
       " O(3^2),\n",
       " O(3),\n",
       " O(3^0),\n",
       " O(3^-1),\n",
       " O(3^-2),\n",
       " O(3^-3),\n",
       " O(3^-4),\n",
       " O(3^-5),\n",
       " O(3^-6)]"
      ]
     },
     "execution_count": 4,
     "metadata": {},
     "output_type": "execute_result"
    }
   ],
   "source": [
    "power_series_interpolation_W(chi,3,1) # ok see Ernvall Table I (3,-47,1)"
   ]
  },
  {
   "cell_type": "code",
   "execution_count": 5,
   "id": "a3ca64af",
   "metadata": {},
   "outputs": [],
   "source": [
    "# example: cubic character of conductor 117\n",
    "H = DirichletGroup(117, base_ring=CyclotomicField(6))\n",
    "M = H._module\n",
    "chi = DirichletCharacter(H, M([4,4]))"
   ]
  },
  {
   "cell_type": "code",
   "execution_count": 6,
   "id": "f323bef0",
   "metadata": {},
   "outputs": [
    {
     "data": {
      "text/plain": [
       "[(2*pi + 1)*5 + (pi + 4)*5^2 + (3*pi + 2)*5^3 + 2*pi*5^4 + pi*5^5 + (2*pi + 2)*5^6 + (2*pi + 3)*5^7 + 5^8 + (3*pi + 2)*5^9 + (4*pi + 3)*5^11 + (4*pi + 1)*5^12 + 4*pi*5^13 + (3*pi + 2)*5^14 + (4*pi + 4)*5^15 + (2*pi + 4)*5^16 + pi*5^17 + 4*pi*5^20 + O(5^21),\n",
       " 3*pi + (4*pi + 1)*5 + (pi + 4)*5^2 + (pi + 1)*5^3 + (4*pi + 2)*5^4 + (2*pi + 3)*5^6 + (4*pi + 4)*5^7 + 2*5^8 + (2*pi + 2)*5^10 + 5^11 + (3*pi + 4)*5^12 + 3*5^13 + (2*pi + 1)*5^14 + (pi + 3)*5^15 + 4*5^16 + (3*pi + 3)*5^17 + (3*pi + 3)*5^18 + O(5^19),\n",
       " (3*pi + 4) + 3*pi*5^2 + 4*pi*5^3 + (3*pi + 4)*5^4 + (2*pi + 2)*5^5 + (3*pi + 3)*5^6 + 5^7 + (3*pi + 2)*5^8 + (2*pi + 2)*5^9 + (4*pi + 3)*5^10 + (4*pi + 3)*5^11 + 3*pi*5^12 + 3*pi*5^13 + (3*pi + 1)*5^14 + (pi + 2)*5^15 + O(5^17),\n",
       " (3*pi + 1) + (pi + 4)*5 + (2*pi + 3)*5^2 + (4*pi + 3)*5^3 + (pi + 1)*5^4 + (2*pi + 4)*5^5 + (3*pi + 1)*5^6 + 2*pi*5^7 + 4*pi*5^8 + (2*pi + 3)*5^9 + (pi + 2)*5^10 + 3*pi*5^11 + 3*5^12 + (pi + 2)*5^13 + (2*pi + 3)*5^14 + O(5^15),\n",
       " (2*pi + 4) + (2*pi + 4)*5 + 4*pi*5^2 + 3*pi*5^3 + (3*pi + 4)*5^4 + (pi + 3)*5^5 + (4*pi + 2)*5^6 + (pi + 4)*5^7 + (3*pi + 2)*5^8 + (pi + 4)*5^9 + (4*pi + 4)*5^10 + (pi + 1)*5^11 + pi*5^12 + (3*pi + 2)*5^13 + O(5^14),\n",
       " 2*pi + 3*5^2 + (pi + 2)*5^3 + pi*5^4 + (3*pi + 3)*5^5 + (pi + 1)*5^6 + (3*pi + 1)*5^7 + (4*pi + 1)*5^8 + 3*pi*5^9 + 2*5^10 + 3*5^11 + 4*pi*5^12 + O(5^13),\n",
       " 2 + (4*pi + 1)*5 + (pi + 2)*5^2 + 3*pi*5^3 + 4*5^4 + (pi + 1)*5^5 + (3*pi + 3)*5^6 + 4*5^7 + (3*pi + 3)*5^8 + (3*pi + 1)*5^9 + (4*pi + 3)*5^10 + O(5^12),\n",
       " (3*pi + 3) + (2*pi + 3)*5 + 3*5^2 + 3*5^3 + (3*pi + 3)*5^4 + 4*5^5 + (pi + 2)*5^6 + (2*pi + 3)*5^7 + 2*pi*5^9 + 2*pi*5^10 + O(5^11),\n",
       " 3*pi + 2*pi*5 + 3*5^2 + 2*pi*5^3 + 3*pi*5^4 + (pi + 1)*5^5 + (4*pi + 3)*5^6 + (3*pi + 1)*5^7 + 3*5^8 + (4*pi + 4)*5^9 + O(5^10),\n",
       " 3 + (pi + 4)*5 + (pi + 4)*5^2 + pi*5^3 + (4*pi + 3)*5^4 + 3*pi*5^5 + (4*pi + 4)*5^6 + (2*pi + 3)*5^7 + (4*pi + 2)*5^8 + O(5^9),\n",
       " (pi + 3) + (2*pi + 2)*5 + 5^2 + pi*5^3 + 2*pi*5^4 + 2*5^5 + (2*pi + 3)*5^6 + (pi + 2)*5^7 + O(5^8),\n",
       " 2*pi + (3*pi + 2)*5 + (4*pi + 3)*5^2 + (4*pi + 3)*5^3 + (pi + 2)*5^4 + (2*pi + 3)*5^5 + 4*pi*5^6 + O(5^7),\n",
       " 1 + (3*pi + 4)*5 + (pi + 1)*5^2 + (pi + 1)*5^3 + 4*pi*5^4 + 4*pi*5^5 + O(5^6),\n",
       " (4*pi + 4) + (2*pi + 2)*5 + (4*pi + 1)*5^2 + (2*pi + 3)*5^3 + (4*pi + 3)*5^4 + O(5^5),\n",
       " 2 + 3*5 + (4*pi + 4)*5^2 + 5^3 + O(5^4),\n",
       " pi + (pi + 1)*5 + (pi + 4)*5^2 + O(5^3),\n",
       " (2*pi + 4) + (3*pi + 4)*5 + O(5^2),\n",
       " (4*pi + 3) + O(5)]"
      ]
     },
     "execution_count": 6,
     "metadata": {},
     "output_type": "execute_result"
    }
   ],
   "source": [
    "power_series_interpolation_W(chi,5,2) # ok, see power_series_KW"
   ]
  },
  {
   "cell_type": "code",
   "execution_count": null,
   "id": "846efa4f",
   "metadata": {},
   "outputs": [],
   "source": []
  }
 ],
 "metadata": {
  "kernelspec": {
   "display_name": "SageMath 9.5",
   "language": "sage",
   "name": "sagemath-9.5"
  },
  "language_info": {
   "codemirror_mode": {
    "name": "ipython",
    "version": 3
   },
   "file_extension": ".py",
   "mimetype": "text/x-python",
   "name": "python",
   "nbconvert_exporter": "python",
   "pygments_lexer": "ipython3",
   "version": "3.9.9"
  }
 },
 "nbformat": 4,
 "nbformat_minor": 5
}
