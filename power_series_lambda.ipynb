{
 "cells": [
  {
   "cell_type": "markdown",
   "id": "649d2660",
   "metadata": {},
   "source": [
    "## The $\\lambda$-invariant of the Iwasawa power series for Dirichlet characters via interpolation of Bernoulli numbers\n"
   ]
  },
  {
   "cell_type": "markdown",
   "id": "32f2832d",
   "metadata": {},
   "source": [
    "### Preprint *On Iwasawa $\\lambda$-invariants for abelian number fields and random matrix heuristics* by Daniel Delbourgo and Heiko Knospe"
   ]
  },
  {
   "cell_type": "code",
   "execution_count": 1,
   "id": "f2d151cc",
   "metadata": {},
   "outputs": [],
   "source": [
    "from sage.modular.dirichlet import DirichletCharacter"
   ]
  },
  {
   "cell_type": "code",
   "execution_count": 2,
   "id": "4dc33636",
   "metadata": {},
   "outputs": [],
   "source": [
    "def power_series_interpolation(chi,p,i):\n",
    "    r\"\"\"\n",
    "    Returns the coefficients of the Iwasawa power series.\n",
    "    The computation uses interpolaton of Bernoulli numbers.\n",
    "    \n",
    "    INPUT:\n",
    "    \n",
    "  \n",
    "    - ``chi``-- Dirichlet character, uses the SageMath class DirichletCharacter.\n",
    "    \n",
    "    - ``p`` -- prime number.\n",
    "    \n",
    "    - ``i`` -- Teichmuller twist of $\\chi$.\n",
    "    \n",
    "    \n",
    "    OUTPUT: array of coefficients of the Iwasawa power series, starting with the constant coefficient\n",
    "    \n",
    "    \n",
    "    \"\"\"\n",
    "    n = chi.order() \n",
    "    chi0 = chi.change_ring(CyclotomicField(n)) \n",
    "    \n",
    "    f = mod(p,n).multiplicative_order() # degree of field extension of Qp containing $n$-th root of unity\n",
    "    \n",
    "    L.<pi>=Qq(p^f) # unramified field extension of Qp\n",
    "    \n",
    "    zeta=L.roots_of_unity(n)[1]\n",
    "    chip=chi0(p).lift()(zeta)\n",
    "    \n",
    "    points=[(L((1+p)^(j-1)-1),(-1)*chi0.bernoulli(j).lift()(zeta)/j * (1-chip*p^(j-1))) for j in range(p-1+i,15*p,p-1)]\n",
    "    f = PolynomialRing(L,'x').lagrange_polynomial(points)\n",
    "    \n",
    "    coeff=list(f)\n",
    "    return(coeff)"
   ]
  },
  {
   "cell_type": "code",
   "execution_count": 3,
   "id": "b2f5593e",
   "metadata": {},
   "outputs": [],
   "source": [
    "def lambda_invariant(chi,p,i):\n",
    "    r\"\"\"\n",
    "    Returns the lambda-coefficient of the Iwasawa power series of $\\chi \\omega^i$.\n",
    "    The computation uses interpolaton of Bernoulli numbers.\n",
    "    \n",
    "    INPUT:\n",
    "    \n",
    "  \n",
    "    - ``chi``-- Dirichlet character, uses the SageMath class DirichletCharacter.\n",
    "    \n",
    "    - ``p`` -- prime number.\n",
    "    \n",
    "    - ``i`` -- Teichmuller twist of $\\chi$.\n",
    "    \n",
    "    \n",
    "    OUTPUT: lambda-invariant\n",
    "    \n",
    "    \n",
    "    \"\"\"\n",
    "    \n",
    "    n = chi.order() # order of $\\chi$\n",
    "    \n",
    "    if gcd(n,p)>1:\n",
    "        print(\"Not yet implemented.\")\n",
    "        return()\n",
    "    \n",
    "    cond = chi.conductor() # conductor of $\\chi$\n",
    "    \n",
    "    if gcd(cond,p)>1:\n",
    "        print(\"Not yet implemented.\")\n",
    "        return()\n",
    "    \n",
    "    f = mod(p,n).multiplicative_order()\n",
    "    \n",
    "    L.<pi>=Qq(p^f) # unramified field extension of Qp\n",
    "    \n",
    "    coeffs=power_series_interpolation(chi,p,i)\n",
    "\n",
    "    v = L.valuation()\n",
    "    j=0\n",
    "    while j<15:\n",
    "        if v(coeffs[j])<=0: \n",
    "            break;\n",
    "        else:\n",
    "            j+=1\n",
    "    return(j)  # lambda-invariant       "
   ]
  },
  {
   "cell_type": "code",
   "execution_count": 4,
   "id": "48562b64",
   "metadata": {},
   "outputs": [
    {
     "data": {
      "text/plain": [
       "4"
      ]
     },
     "execution_count": 4,
     "metadata": {},
     "output_type": "execute_result"
    }
   ],
   "source": [
    "# Example: conductor 19, p=7, twist=1\n",
    "H = DirichletGroup(19, base_ring=CyclotomicField(6))\n",
    "M = H._module\n",
    "chi = DirichletCharacter(H, M([1]))\n",
    "lambda_invariant(chi,7,1) # lambda=4, same result as with other method power_series_dirichlet"
   ]
  },
  {
   "cell_type": "code",
   "execution_count": 5,
   "id": "4821a358",
   "metadata": {},
   "outputs": [],
   "source": [
    "def lambda_quad_even(p,N,M):\n",
    "    \n",
    "    r\"\"\"\n",
    "    Returns the lambda coefficients for even quadratic characters.\n",
    "    \n",
    "    INPUT:\n",
    "    \n",
    "    \n",
    "    - ``p`` -- prime number.\n",
    "    \n",
    "    - ``n`` -- order of character\n",
    "    \n",
    "    - ``N`` -- lower bound for the conductor\n",
    "    \n",
    "    - ``M`` -- upper bound for the conductor\n",
    "    \n",
    "    \n",
    "    OUTPUT: array of occurences of lambda-invariants of the Iwasawa power series, starting with $\\lambda=0$\n",
    "    \n",
    "    \n",
    "    \"\"\"\n",
    "    \n",
    "    K=Qp(p)\n",
    "    Ltot=vector(ZZ,15)\n",
    "    for twist in range(0,p-1,2):\n",
    "        print(\"p=\",p,\"twist=\",twist)\n",
    "        L=[0]*15\n",
    "        for n in range(N,M):\n",
    "            H = DirichletGroup(n, base_ring=CyclotomicField(2))\n",
    "            for i in range(H.order()):\n",
    "                if H[i].order()==2 and H[i].is_even()==True and H[i].is_primitive() and gcd(H[i].conductor(),p)==1:\n",
    "               \n",
    "                    coeffs=power_series_interpolation(H[i],p,twist)\n",
    "\n",
    "                    v = K.valuation()\n",
    "                    j=0\n",
    "                    while j<15:\n",
    "                        if v(coeffs[j])<=0: \n",
    "                            L[j]+=1\n",
    "                            #if j>0:\n",
    "                            print(\"lambda=\",j,\" \", H[i])\n",
    "                            break;\n",
    "                        else:\n",
    "                            j+=1\n",
    "    \n",
    "        print(\"Total number=\",sum(L))\n",
    "        if sum(L)>0:\n",
    "            Lprop=[RR(x/sum(L)).n(digits=4) for x in L]\n",
    "            print(\"Proportions=\",Lprop)\n",
    "        Ltot=Ltot+vector(L)    \n",
    "    return(Ltot)"
   ]
  },
  {
   "cell_type": "code",
   "execution_count": 6,
   "id": "7dbc209c",
   "metadata": {},
   "outputs": [
    {
     "name": "stdout",
     "output_type": "stream",
     "text": [
      "p= 3 twist= 0\n",
      "lambda= 0   Dirichlet character modulo 5 of conductor 5 mapping 2 |--> -1\n",
      "lambda= 0   Dirichlet character modulo 8 of conductor 8 mapping 7 |--> 1, 5 |--> -1\n",
      "lambda= 0   Dirichlet character modulo 13 of conductor 13 mapping 2 |--> -1\n",
      "lambda= 0   Dirichlet character modulo 17 of conductor 17 mapping 3 |--> -1\n",
      "lambda= 0   Dirichlet character modulo 28 of conductor 28 mapping 15 |--> -1, 17 |--> -1\n",
      "lambda= 1   Dirichlet character modulo 29 of conductor 29 mapping 2 |--> -1\n",
      "lambda= 0   Dirichlet character modulo 37 of conductor 37 mapping 2 |--> -1\n",
      "lambda= 0   Dirichlet character modulo 40 of conductor 40 mapping 31 |--> 1, 21 |--> -1, 17 |--> -1\n",
      "lambda= 0   Dirichlet character modulo 41 of conductor 41 mapping 6 |--> -1\n",
      "lambda= 0   Dirichlet character modulo 44 of conductor 44 mapping 23 |--> -1, 13 |--> -1\n",
      "lambda= 0   Dirichlet character modulo 53 of conductor 53 mapping 2 |--> -1\n",
      "lambda= 0   Dirichlet character modulo 56 of conductor 56 mapping 15 |--> -1, 29 |--> -1, 17 |--> -1\n",
      "lambda= 0   Dirichlet character modulo 61 of conductor 61 mapping 2 |--> -1\n",
      "lambda= 0   Dirichlet character modulo 65 of conductor 65 mapping 27 |--> -1, 41 |--> -1\n",
      "lambda= 0   Dirichlet character modulo 73 of conductor 73 mapping 5 |--> -1\n",
      "lambda= 0   Dirichlet character modulo 76 of conductor 76 mapping 39 |--> -1, 21 |--> -1\n",
      "lambda= 2   Dirichlet character modulo 77 of conductor 77 mapping 45 |--> -1, 57 |--> -1\n",
      "lambda= 1   Dirichlet character modulo 85 of conductor 85 mapping 52 |--> -1, 71 |--> -1\n",
      "lambda= 0   Dirichlet character modulo 88 of conductor 88 mapping 23 |--> -1, 45 |--> -1, 57 |--> -1\n",
      "lambda= 0   Dirichlet character modulo 89 of conductor 89 mapping 3 |--> -1\n",
      "lambda= 0   Dirichlet character modulo 92 of conductor 92 mapping 47 |--> -1, 5 |--> -1\n",
      "lambda= 0   Dirichlet character modulo 97 of conductor 97 mapping 5 |--> -1\n",
      "Total number= 22\n",
      "Proportions= [0.8636, 0.09091, 0.04545, 0.0000, 0.0000, 0.0000, 0.0000, 0.0000, 0.0000, 0.0000, 0.0000, 0.0000, 0.0000, 0.0000, 0.0000]\n"
     ]
    },
    {
     "data": {
      "text/plain": [
       "(19, 2, 1, 0, 0, 0, 0, 0, 0, 0, 0, 0, 0, 0, 0)"
      ]
     },
     "execution_count": 6,
     "metadata": {},
     "output_type": "execute_result"
    }
   ],
   "source": [
    "# Example: p=3, quadratic even characters of conductor<100\n",
    "lambda_quad_even(3,1,100)"
   ]
  },
  {
   "cell_type": "code",
   "execution_count": 7,
   "id": "530377a8",
   "metadata": {},
   "outputs": [],
   "source": [
    "def lambda_even(p,n,N,M):\n",
    "    \n",
    "    r\"\"\"\n",
    "    Returns the lambda coefficients for even characters of a given order.\n",
    "    \n",
    "    INPUT:\n",
    "    \n",
    "    \n",
    "    - ``p`` -- prime number.\n",
    "    \n",
    "    - ``n`` -- order of character\n",
    "    \n",
    "    - ``N`` -- lower bound for the conductor\n",
    "    \n",
    "    - ``M`` -- upper bound for the conductor\n",
    "    \n",
    "    \n",
    "    OUTPUT: array of occurences of lambda-invariants of the Iwasawa power series, starting with $\\lambda=0$\n",
    "    \n",
    "    \n",
    "    \"\"\"\n",
    "    \n",
    "    f = mod(p,n).multiplicative_order() # degree of field extension of Qp containing $n$-th root of unity\n",
    "    \n",
    "    K.<pi>=Qq(p^f) # unramified field extension of Qp\n",
    "      \n",
    "    Ltot=vector(ZZ,15)\n",
    "    for twist in range(0,p-1,2):\n",
    "        print(\"p=\",p,\"twist=\",twist)\n",
    "        L=[0]*15\n",
    "        for k in range(N,M):\n",
    "            H = DirichletGroup(k, base_ring=CyclotomicField(n))\n",
    "            for i in range(H.order()):\n",
    "                \n",
    "                if H[i].order()==n and H[i].is_even()==True and H[i].is_primitive() and gcd(H[i].conductor(),p)==1:\n",
    "               \n",
    "                    coeffs=power_series_interpolation(H[i],p,twist)\n",
    "\n",
    "                    v = K.valuation()\n",
    "                    j=0\n",
    "                    while j<15:\n",
    "                        if v(coeffs[j])<=0: \n",
    "                            L[j]+=1\n",
    "                            #if j>0:\n",
    "                            print(\"lambda=\",j,\" \", H[i])\n",
    "                            break;\n",
    "                        else:\n",
    "                            j+=1\n",
    "    \n",
    "        print(\"Total number=\",sum(L))\n",
    "        if sum(L)>0:\n",
    "            Lprop=[RR(x/sum(L)).n(digits=4) for x in L]\n",
    "            print(\"Proportions=\",Lprop)\n",
    "        Ltot=Ltot+vector(L)    \n",
    "    return(Ltot)"
   ]
  },
  {
   "cell_type": "code",
   "execution_count": 8,
   "id": "11c33d23",
   "metadata": {},
   "outputs": [
    {
     "name": "stdout",
     "output_type": "stream",
     "text": [
      "p= 7 twist= 0\n",
      "lambda= 2   Dirichlet character modulo 9 of conductor 9 mapping 2 |--> zeta3\n",
      "lambda= 0   Dirichlet character modulo 9 of conductor 9 mapping 2 |--> -zeta3 - 1\n",
      "lambda= 0   Dirichlet character modulo 13 of conductor 13 mapping 2 |--> zeta3\n",
      "lambda= 0   Dirichlet character modulo 13 of conductor 13 mapping 2 |--> -zeta3 - 1\n",
      "lambda= 0   Dirichlet character modulo 19 of conductor 19 mapping 2 |--> zeta3\n",
      "lambda= 0   Dirichlet character modulo 19 of conductor 19 mapping 2 |--> -zeta3 - 1\n",
      "lambda= 0   Dirichlet character modulo 31 of conductor 31 mapping 3 |--> zeta3\n",
      "lambda= 0   Dirichlet character modulo 31 of conductor 31 mapping 3 |--> -zeta3 - 1\n",
      "lambda= 0   Dirichlet character modulo 37 of conductor 37 mapping 2 |--> zeta3\n",
      "lambda= 0   Dirichlet character modulo 37 of conductor 37 mapping 2 |--> -zeta3 - 1\n",
      "lambda= 0   Dirichlet character modulo 43 of conductor 43 mapping 3 |--> zeta3\n",
      "lambda= 0   Dirichlet character modulo 43 of conductor 43 mapping 3 |--> -zeta3 - 1\n",
      "lambda= 0   Dirichlet character modulo 61 of conductor 61 mapping 2 |--> zeta3\n",
      "lambda= 0   Dirichlet character modulo 61 of conductor 61 mapping 2 |--> -zeta3 - 1\n",
      "lambda= 0   Dirichlet character modulo 67 of conductor 67 mapping 2 |--> zeta3\n",
      "lambda= 0   Dirichlet character modulo 67 of conductor 67 mapping 2 |--> -zeta3 - 1\n",
      "lambda= 1   Dirichlet character modulo 73 of conductor 73 mapping 5 |--> zeta3\n",
      "lambda= 0   Dirichlet character modulo 73 of conductor 73 mapping 5 |--> -zeta3 - 1\n",
      "lambda= 0   Dirichlet character modulo 79 of conductor 79 mapping 3 |--> zeta3\n",
      "lambda= 0   Dirichlet character modulo 79 of conductor 79 mapping 3 |--> -zeta3 - 1\n",
      "lambda= 0   Dirichlet character modulo 97 of conductor 97 mapping 5 |--> zeta3\n",
      "lambda= 1   Dirichlet character modulo 97 of conductor 97 mapping 5 |--> -zeta3 - 1\n",
      "Total number= 22\n",
      "Proportions= [0.8636, 0.09091, 0.04545, 0.0000, 0.0000, 0.0000, 0.0000, 0.0000, 0.0000, 0.0000, 0.0000, 0.0000, 0.0000, 0.0000, 0.0000]\n",
      "p= 7 twist= 2\n",
      "lambda= 0   Dirichlet character modulo 9 of conductor 9 mapping 2 |--> zeta3\n",
      "lambda= 0   Dirichlet character modulo 9 of conductor 9 mapping 2 |--> -zeta3 - 1\n",
      "lambda= 0   Dirichlet character modulo 13 of conductor 13 mapping 2 |--> zeta3\n",
      "lambda= 0   Dirichlet character modulo 13 of conductor 13 mapping 2 |--> -zeta3 - 1\n",
      "lambda= 0   Dirichlet character modulo 19 of conductor 19 mapping 2 |--> zeta3\n",
      "lambda= 0   Dirichlet character modulo 19 of conductor 19 mapping 2 |--> -zeta3 - 1\n",
      "lambda= 0   Dirichlet character modulo 31 of conductor 31 mapping 3 |--> zeta3\n",
      "lambda= 1   Dirichlet character modulo 31 of conductor 31 mapping 3 |--> -zeta3 - 1\n",
      "lambda= 0   Dirichlet character modulo 37 of conductor 37 mapping 2 |--> zeta3\n",
      "lambda= 1   Dirichlet character modulo 37 of conductor 37 mapping 2 |--> -zeta3 - 1\n",
      "lambda= 0   Dirichlet character modulo 43 of conductor 43 mapping 3 |--> zeta3\n",
      "lambda= 0   Dirichlet character modulo 43 of conductor 43 mapping 3 |--> -zeta3 - 1\n",
      "lambda= 1   Dirichlet character modulo 61 of conductor 61 mapping 2 |--> zeta3\n",
      "lambda= 0   Dirichlet character modulo 61 of conductor 61 mapping 2 |--> -zeta3 - 1\n",
      "lambda= 0   Dirichlet character modulo 67 of conductor 67 mapping 2 |--> zeta3\n",
      "lambda= 0   Dirichlet character modulo 67 of conductor 67 mapping 2 |--> -zeta3 - 1\n",
      "lambda= 0   Dirichlet character modulo 73 of conductor 73 mapping 5 |--> zeta3\n",
      "lambda= 0   Dirichlet character modulo 73 of conductor 73 mapping 5 |--> -zeta3 - 1\n",
      "lambda= 0   Dirichlet character modulo 79 of conductor 79 mapping 3 |--> zeta3\n",
      "lambda= 0   Dirichlet character modulo 79 of conductor 79 mapping 3 |--> -zeta3 - 1\n",
      "lambda= 0   Dirichlet character modulo 97 of conductor 97 mapping 5 |--> zeta3\n",
      "lambda= 0   Dirichlet character modulo 97 of conductor 97 mapping 5 |--> -zeta3 - 1\n",
      "Total number= 22\n",
      "Proportions= [0.8636, 0.1364, 0.0000, 0.0000, 0.0000, 0.0000, 0.0000, 0.0000, 0.0000, 0.0000, 0.0000, 0.0000, 0.0000, 0.0000, 0.0000]\n",
      "p= 7 twist= 4\n",
      "lambda= 0   Dirichlet character modulo 9 of conductor 9 mapping 2 |--> zeta3\n",
      "lambda= 0   Dirichlet character modulo 9 of conductor 9 mapping 2 |--> -zeta3 - 1\n",
      "lambda= 0   Dirichlet character modulo 13 of conductor 13 mapping 2 |--> zeta3\n",
      "lambda= 0   Dirichlet character modulo 13 of conductor 13 mapping 2 |--> -zeta3 - 1\n",
      "lambda= 0   Dirichlet character modulo 19 of conductor 19 mapping 2 |--> zeta3\n",
      "lambda= 0   Dirichlet character modulo 19 of conductor 19 mapping 2 |--> -zeta3 - 1\n",
      "lambda= 0   Dirichlet character modulo 31 of conductor 31 mapping 3 |--> zeta3\n",
      "lambda= 0   Dirichlet character modulo 31 of conductor 31 mapping 3 |--> -zeta3 - 1\n",
      "lambda= 0   Dirichlet character modulo 37 of conductor 37 mapping 2 |--> zeta3\n",
      "lambda= 0   Dirichlet character modulo 37 of conductor 37 mapping 2 |--> -zeta3 - 1\n",
      "lambda= 0   Dirichlet character modulo 43 of conductor 43 mapping 3 |--> zeta3\n",
      "lambda= 0   Dirichlet character modulo 43 of conductor 43 mapping 3 |--> -zeta3 - 1\n",
      "lambda= 0   Dirichlet character modulo 61 of conductor 61 mapping 2 |--> zeta3\n",
      "lambda= 1   Dirichlet character modulo 61 of conductor 61 mapping 2 |--> -zeta3 - 1\n",
      "lambda= 0   Dirichlet character modulo 67 of conductor 67 mapping 2 |--> zeta3\n",
      "lambda= 0   Dirichlet character modulo 67 of conductor 67 mapping 2 |--> -zeta3 - 1\n",
      "lambda= 0   Dirichlet character modulo 73 of conductor 73 mapping 5 |--> zeta3\n",
      "lambda= 0   Dirichlet character modulo 73 of conductor 73 mapping 5 |--> -zeta3 - 1\n",
      "lambda= 0   Dirichlet character modulo 79 of conductor 79 mapping 3 |--> zeta3\n",
      "lambda= 0   Dirichlet character modulo 79 of conductor 79 mapping 3 |--> -zeta3 - 1\n",
      "lambda= 0   Dirichlet character modulo 97 of conductor 97 mapping 5 |--> zeta3\n",
      "lambda= 0   Dirichlet character modulo 97 of conductor 97 mapping 5 |--> -zeta3 - 1\n",
      "Total number= 22\n",
      "Proportions= [0.9545, 0.04545, 0.0000, 0.0000, 0.0000, 0.0000, 0.0000, 0.0000, 0.0000, 0.0000, 0.0000, 0.0000, 0.0000, 0.0000, 0.0000]\n"
     ]
    },
    {
     "data": {
      "text/plain": [
       "(59, 6, 1, 0, 0, 0, 0, 0, 0, 0, 0, 0, 0, 0, 0)"
      ]
     },
     "execution_count": 8,
     "metadata": {},
     "output_type": "execute_result"
    }
   ],
   "source": [
    "# Example: p=7, cubic characters of conductor <100\n",
    "lambda_even(7,3,1,100)"
   ]
  },
  {
   "cell_type": "markdown",
   "id": "8dc0a1d5",
   "metadata": {},
   "source": [
    "### List of characters and twists of conductor $<100$, $p$ does not divide the conductor, $p$ does not divide the  order and $f<10$ such that $\\lambda>0$ (resp. $\\lambda=1$ in the trivial zero case)."
   ]
  },
  {
   "cell_type": "code",
   "execution_count": 10,
   "id": "deed7ade",
   "metadata": {},
   "outputs": [
    {
     "name": "stdout",
     "output_type": "stream",
     "text": [
      "p= 3\n",
      "lambda= 1 , even Dirichlet character modulo 29 of conductor 29 mapping 2 |--> -1 , twist= 0 , order= 2 , f= 1 \n",
      "lambda= 1 , odd Dirichlet character modulo 31 of conductor 31 mapping 3 |--> -1 , twist= 1 , order= 2 , f= 1 \n",
      "lambda= 1 , even Dirichlet character modulo 32 of conductor 32 mapping 31 |--> 1, 5 |--> -zeta8 , twist= 0 , order= 8 , f= 2 \n",
      "lambda= 1 , even Dirichlet character modulo 32 of conductor 32 mapping 31 |--> 1, 5 |--> -zeta8^3 , twist= 0 , order= 8 , f= 2 \n",
      "lambda= 2 , odd Dirichlet character modulo 35 of conductor 35 mapping 22 |--> -1, 31 |--> -1 , twist= 1 , order= 2 , f= 1 , trivial zero\n",
      "lambda= 2 , odd Dirichlet character modulo 47 of conductor 47 mapping 5 |--> -1 , twist= 1 , order= 2 , f= 1 , trivial zero\n",
      "lambda= 2 , odd Dirichlet character modulo 56 of conductor 56 mapping 15 |--> 1, 29 |--> -1, 17 |--> -1 , twist= 1 , order= 2 , f= 1 , trivial zero\n",
      "lambda= 2 , even Dirichlet character modulo 77 of conductor 77 mapping 45 |--> -1, 57 |--> -1 , twist= 0 , order= 2 , f= 1 \n",
      "lambda= 1 , even Dirichlet character modulo 85 of conductor 85 mapping 52 |--> -1, 71 |--> -1 , twist= 0 , order= 2 , f= 1 \n"
     ]
    }
   ],
   "source": [
    "p=3\n",
    "print(\"p=\",p)\n",
    "for k in range(2,100):\n",
    "            H = DirichletGroup(k)\n",
    "            for i in range(H.order()):\n",
    "                chi=H[i]\n",
    "                n = chi.order() \n",
    "                if gcd(n,p)==1:\n",
    "                    f = mod(p,n).multiplicative_order() # degree of field extension of Qp containing $n$-th root of unity    \n",
    "                chi0 = chi.change_ring(CyclotomicField(n)) \n",
    "                if chi0.is_primitive() and gcd(chi0.conductor(),p)==1 and gcd(n,p)==1 and f<10:\n",
    "                    if (chi0.is_odd()):\n",
    "                        odd=1\n",
    "                        oddtext=\"odd\"\n",
    "                    else:\n",
    "                        odd=0\n",
    "                        oddtext=\"even\"\n",
    "\n",
    "                    for twist in range(odd,p-1,2):\n",
    "                        \n",
    "                        la=lambda_invariant(chi0,p,twist) \n",
    "\n",
    "                        if twist==1 and chi0(p)==1:\n",
    "                            triv=\", trivial zero\"  # trivial zero\n",
    "                            threshold=1 \n",
    "                        else:\n",
    "                            triv=\"\"\n",
    "                            threshold=0\n",
    "\n",
    "                        if la>threshold:    # la>0; la>1 for trivial zero\n",
    "                       \n",
    "                    \n",
    "                            print(\"lambda=\",la,\",\",oddtext, chi0,\",\",\"twist=\",twist,\",\",\"order=\", n, \",\",\"f=\",f, triv)   "
   ]
  },
  {
   "cell_type": "markdown",
   "id": "23bddbe9",
   "metadata": {},
   "source": [
    "### More data for $p=3,5,7$ and conductor $<1000$ can be found in separate files."
   ]
  },
  {
   "cell_type": "code",
   "execution_count": 11,
   "id": "fc64538d",
   "metadata": {},
   "outputs": [],
   "source": [
    "# Example of a large lambda-invariant\n",
    "H = DirichletGroup(4*53301/3, base_ring=CyclotomicField(2)) # quadratic character of conductor "
   ]
  },
  {
   "cell_type": "code",
   "execution_count": 20,
   "id": "7de776e2",
   "metadata": {},
   "outputs": [
    {
     "data": {
      "text/plain": [
       "11"
      ]
     },
     "execution_count": 20,
     "metadata": {},
     "output_type": "execute_result"
    }
   ],
   "source": [
    "lambda_invariant(H[7],3,0) # lambda=11"
   ]
  },
  {
   "cell_type": "code",
   "execution_count": null,
   "id": "fdeb1fc9",
   "metadata": {},
   "outputs": [],
   "source": []
  }
 ],
 "metadata": {
  "kernelspec": {
   "display_name": "SageMath 9.5",
   "language": "sage",
   "name": "sagemath-9.5"
  },
  "language_info": {
   "codemirror_mode": {
    "name": "ipython",
    "version": 3
   },
   "file_extension": ".py",
   "mimetype": "text/x-python",
   "name": "python",
   "nbconvert_exporter": "python",
   "pygments_lexer": "ipython3",
   "version": "3.9.9"
  }
 },
 "nbformat": 4,
 "nbformat_minor": 5
}
